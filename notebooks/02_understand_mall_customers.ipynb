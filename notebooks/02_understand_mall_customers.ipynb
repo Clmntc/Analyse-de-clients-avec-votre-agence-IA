{
 "cells": [
  {
   "cell_type": "markdown",
   "id": "serial-reminder",
   "metadata": {},
   "source": [
    "# Understanding Mall customers"
   ]
  },
  {
   "cell_type": "markdown",
   "id": "perfect-baseball",
   "metadata": {},
   "source": [
    "In this exercise, you work for a consulting firm as data scientist. In this scenario, your client is the owner of a Mall and he wants to understand the customers who can easily buy.  \n",
    "\n",
    "You dispose of a dataset from the mall dataset with 5 features :\n",
    "- CustomerID of the customer\n",
    "- Gender of the customer\n",
    "- Age of the customer\n",
    "- Annual Income of the customer in k$\n",
    "- Spending Score assigned by the mall based on customer behavior and spending nature (1-99)\n"
   ]
  },
  {
   "cell_type": "markdown",
   "id": "administrative-floor",
   "metadata": {},
   "source": [
    "You have one day to perform this analysis"
   ]
  },
  {
   "cell_type": "code",
   "execution_count": 169,
   "id": "biological-torture",
   "metadata": {},
   "outputs": [],
   "source": [
    "import pandas as pd\n",
    "import numpy as np\n",
    "import plotly.express as px\n",
    "\n",
    "from sklearn.pipeline import Pipeline\n",
    "from sklearn import model_selection\n",
    "from sklearn.base import BaseEstimator\n",
    "from sklearn.model_selection import GridSearchCV\n",
    "from sklearn.preprocessing import OneHotEncoder, LabelEncoder\n",
    "from sklearn import compose\n",
    "from sklearn_pandas import DataFrameMapper\n",
    "from sklearn.metrics import classification_report\n",
    "\n",
    "import matplotlib.pyplot as plt\n",
    "\n",
    "#from sklearn.utils import class_weight\n",
    "#from sklearn.metrics import classification_report\n",
    "#from sklearn.metrics import confusion_matrix\n",
    "\n",
    "from sklearn.cluster import DBSCAN, KMeans, AgglomerativeClustering, AffinityPropagation\n",
    "\n",
    "# Mutliple outputs\n",
    "from IPython.core.interactiveshell import InteractiveShell\n",
    "InteractiveShell.ast_node_interactivity = \"all\"\n",
    "\n",
    "# Plots for retina screens\n",
    "%matplotlib inline\n",
    "%config InlineBackend.figure_format='retina'"
   ]
  },
  {
   "cell_type": "code",
   "execution_count": 170,
   "id": "interior-orbit",
   "metadata": {},
   "outputs": [
    {
     "data": {
      "text/html": [
       "<div>\n",
       "<style scoped>\n",
       "    .dataframe tbody tr th:only-of-type {\n",
       "        vertical-align: middle;\n",
       "    }\n",
       "\n",
       "    .dataframe tbody tr th {\n",
       "        vertical-align: top;\n",
       "    }\n",
       "\n",
       "    .dataframe thead th {\n",
       "        text-align: right;\n",
       "    }\n",
       "</style>\n",
       "<table border=\"1\" class=\"dataframe\">\n",
       "  <thead>\n",
       "    <tr style=\"text-align: right;\">\n",
       "      <th></th>\n",
       "      <th>CustomerID</th>\n",
       "      <th>Gender</th>\n",
       "      <th>Age</th>\n",
       "      <th>Annual Income (k$)</th>\n",
       "      <th>Spending Score (1-100)</th>\n",
       "    </tr>\n",
       "  </thead>\n",
       "  <tbody>\n",
       "    <tr>\n",
       "      <th>0</th>\n",
       "      <td>1</td>\n",
       "      <td>Male</td>\n",
       "      <td>19</td>\n",
       "      <td>15</td>\n",
       "      <td>39</td>\n",
       "    </tr>\n",
       "    <tr>\n",
       "      <th>1</th>\n",
       "      <td>2</td>\n",
       "      <td>Male</td>\n",
       "      <td>21</td>\n",
       "      <td>15</td>\n",
       "      <td>81</td>\n",
       "    </tr>\n",
       "    <tr>\n",
       "      <th>2</th>\n",
       "      <td>3</td>\n",
       "      <td>Female</td>\n",
       "      <td>20</td>\n",
       "      <td>16</td>\n",
       "      <td>6</td>\n",
       "    </tr>\n",
       "    <tr>\n",
       "      <th>3</th>\n",
       "      <td>4</td>\n",
       "      <td>Female</td>\n",
       "      <td>23</td>\n",
       "      <td>16</td>\n",
       "      <td>77</td>\n",
       "    </tr>\n",
       "    <tr>\n",
       "      <th>4</th>\n",
       "      <td>5</td>\n",
       "      <td>Female</td>\n",
       "      <td>31</td>\n",
       "      <td>17</td>\n",
       "      <td>40</td>\n",
       "    </tr>\n",
       "  </tbody>\n",
       "</table>\n",
       "</div>"
      ],
      "text/plain": [
       "   CustomerID  Gender  Age  Annual Income (k$)  Spending Score (1-100)\n",
       "0           1    Male   19                  15                      39\n",
       "1           2    Male   21                  15                      81\n",
       "2           3  Female   20                  16                       6\n",
       "3           4  Female   23                  16                      77\n",
       "4           5  Female   31                  17                      40"
      ]
     },
     "execution_count": 170,
     "metadata": {},
     "output_type": "execute_result"
    }
   ],
   "source": [
    "mall_df = pd.read_csv('../data/db_Mall.csv')\n",
    "#mall_df.set_index('CustomerID', inplace=True)\n",
    "mall_df.head()"
   ]
  },
  {
   "cell_type": "code",
   "execution_count": 171,
   "id": "4266fac4-dd38-49f5-9c05-8218bbcaa6eb",
   "metadata": {},
   "outputs": [],
   "source": [
    "# Hand encoding of categorical data\n",
    "mall_df.loc[mall_df.Gender == 'Male', 'Gender'] = 0\n",
    "mall_df.loc[mall_df.Gender == 'Female', 'Gender'] = 1\n",
    "\n",
    "X = mall_df.drop(['CustomerID'], axis=1)"
   ]
  },
  {
   "cell_type": "markdown",
   "id": "social-necessity",
   "metadata": {},
   "source": [
    "# Customer Segmentation using different clustering methods"
   ]
  },
  {
   "cell_type": "markdown",
   "id": "wrong-chrome",
   "metadata": {},
   "source": [
    "Try to perform different Clustering methods (e.g. k-means, agglomerative, DBSCAN, Gaussian) to create clusters and understand behaviors\n",
    "\n",
    "https://machinelearningmastery.com/clustering-algorithms-with-python/\n",
    "\n",
    "https://towardsdatascience.com/the-5-clustering-algorithms-data-scientists-need-to-know-a36d136ef68"
   ]
  },
  {
   "cell_type": "markdown",
   "id": "4c5db8e0-35ba-46d0-9dff-7feac28829c1",
   "metadata": {},
   "source": [
    "### KMeans"
   ]
  },
  {
   "cell_type": "code",
   "execution_count": 174,
   "id": "71d2a779-a095-4967-b428-3aa9497b427a",
   "metadata": {},
   "outputs": [
    {
     "data": {
      "image/png": "[encoded data removed]",
      "text/plain": [
       "<Figure size 1080x720 with 2 Axes>"
      ]
     },
     "metadata": {
      "image/png": {
       "height": 603,
       "width": 957
      }
     },
     "output_type": "display_data"
    }
   ],
   "source": [
    "from yellowbrick.cluster import KElbowVisualizer, SilhouetteVisualizer\n",
    "from yellowbrick.features import RadViz\n",
    "\n",
    "visualizer = RadViz(size=(1080, 720))\n",
    "\n",
    "model = KMeans(random_state=42)\n",
    "visualizer = KElbowVisualizer(model, k=(2,15))\n",
    "visualizer.fit(mall_df)\n",
    "visualizer.show();"
   ]
  },
  {
   "cell_type": "code",
   "execution_count": 176,
   "id": "297c4c62-deef-411f-8340-34731f55be64",
   "metadata": {},
   "outputs": [
    {
     "data": {
      "text/plain": [
       "KMeans(n_clusters=6)"
      ]
     },
     "execution_count": 176,
     "metadata": {},
     "output_type": "execute_result"
    },
    {
     "data": {
      "application/vnd.plotly.v1+json": {
       "config": {
        "plotlyServerURL": "https://plot.ly"
       },
       "data": [
        {
         "hovertemplate": "Gender=0<br>Age=%{x}<br>Spending Score (1-100)=%{y}<br>Annual Income (k$)=%{z}<br>label_kmeans=%{marker.color}<extra></extra>",
         "legendgroup": "0",
         "marker": {
          "color": [
           0,
           5,
           0,
           0,
           0,
           5,
           5,
           0,
           0,
           5,
           5,
           5,
           5,
           0,
           0,
           5,
           5,
           2,
           4,
           2,
           2,
           2,
           2,
           2,
           4,
           2,
           4,
           4,
           2,
           2,
           4,
           4,
           2,
           4,
           2,
           2,
           4,
           2,
           4,
           2,
           4,
           2,
           4,
           2,
           2,
           2,
           2,
           2,
           4,
           4,
           1,
           3,
           1,
           3,
           1,
           3,
           1,
           3,
           1,
           3,
           1,
           3,
           1,
           3,
           1,
           3,
           1,
           3,
           3,
           3,
           3,
           3,
           1,
           3,
           1,
           3,
           1,
           3,
           1,
           3,
           1,
           3,
           1,
           1,
           3,
           1,
           3,
           1
          ],
          "coloraxis": "coloraxis",
          "symbol": "circle"
         },
         "mode": "markers",
         "name": "0",
         "scene": "scene",
         "showlegend": true,
         "type": "scatter3d",
         "x": [
          19,
          21,
          64,
          67,
          37,
          22,
          20,
          52,
          35,
          25,
          31,
          29,
          35,
          60,
          53,
          18,
          24,
          48,
          33,
          59,
          47,
          69,
          53,
          70,
          19,
          63,
          18,
          19,
          70,
          59,
          26,
          40,
          57,
          38,
          67,
          48,
          18,
          48,
          24,
          48,
          20,
          67,
          26,
          49,
          54,
          68,
          66,
          65,
          19,
          27,
          39,
          43,
          40,
          59,
          38,
          47,
          39,
          20,
          32,
          19,
          32,
          25,
          28,
          48,
          34,
          43,
          39,
          37,
          34,
          19,
          50,
          42,
          32,
          40,
          28,
          36,
          36,
          58,
          27,
          59,
          35,
          46,
          30,
          28,
          33,
          32,
          32,
          30
         ],
         "y": [
          39,
          81,
          3,
          14,
          13,
          79,
          66,
          29,
          35,
          73,
          73,
          82,
          61,
          4,
          4,
          92,
          92,
          36,
          60,
          60,
          41,
          46,
          46,
          56,
          55,
          51,
          59,
          59,
          55,
          47,
          54,
          48,
          51,
          55,
          41,
          46,
          41,
          49,
          52,
          42,
          49,
          59,
          55,
          56,
          46,
          43,
          48,
          52,
          46,
          56,
          91,
          35,
          95,
          11,
          75,
          9,
          75,
          5,
          73,
          10,
          93,
          12,
          97,
          36,
          90,
          17,
          88,
          1,
          1,
          5,
          26,
          20,
          63,
          13,
          75,
          10,
          92,
          15,
          69,
          14,
          90,
          15,
          97,
          68,
          8,
          74,
          18,
          83
         ],
         "z": [
          15,
          15,
          19,
          19,
          20,
          20,
          21,
          23,
          24,
          24,
          25,
          28,
          28,
          30,
          33,
          33,
          38,
          39,
          42,
          43,
          43,
          44,
          46,
          46,
          46,
          48,
          48,
          48,
          49,
          54,
          54,
          54,
          54,
          54,
          54,
          54,
          59,
          60,
          60,
          61,
          61,
          62,
          62,
          62,
          63,
          63,
          63,
          63,
          64,
          67,
          69,
          71,
          71,
          71,
          71,
          71,
          71,
          73,
          73,
          74,
          75,
          77,
          77,
          77,
          78,
          78,
          78,
          78,
          78,
          81,
          85,
          86,
          87,
          87,
          87,
          87,
          87,
          88,
          88,
          93,
          93,
          98,
          99,
          101,
          113,
          126,
          137,
          137
         ]
        },
        {
         "hovertemplate": "Gender=1<br>Age=%{x}<br>Spending Score (1-100)=%{y}<br>Annual Income (k$)=%{z}<br>label_kmeans=%{marker.color}<extra></extra>",
         "legendgroup": "1",
         "marker": {
          "color": [
           0,
           5,
           0,
           5,
           0,
           5,
           5,
           5,
           0,
           5,
           0,
           5,
           0,
           0,
           0,
           0,
           5,
           5,
           0,
           5,
           0,
           5,
           0,
           5,
           2,
           4,
           0,
           5,
           2,
           4,
           4,
           4,
           2,
           4,
           2,
           2,
           4,
           2,
           2,
           2,
           2,
           4,
           2,
           2,
           2,
           2,
           4,
           2,
           2,
           4,
           2,
           4,
           4,
           2,
           2,
           4,
           4,
           2,
           4,
           4,
           2,
           4,
           2,
           4,
           4,
           4,
           4,
           2,
           2,
           2,
           2,
           4,
           4,
           4,
           1,
           4,
           1,
           1,
           3,
           1,
           3,
           4,
           1,
           1,
           3,
           3,
           1,
           3,
           1,
           1,
           1,
           3,
           1,
           1,
           1,
           1,
           3,
           3,
           1,
           3,
           1,
           1,
           3,
           3,
           3,
           1,
           3,
           1,
           1,
           3,
           1,
           3
          ],
          "coloraxis": "coloraxis",
          "symbol": "diamond"
         },
         "mode": "markers",
         "name": "1",
         "scene": "scene",
         "showlegend": true,
         "type": "scatter3d",
         "x": [
          20,
          23,
          31,
          22,
          35,
          23,
          30,
          35,
          58,
          24,
          35,
          35,
          46,
          54,
          45,
          40,
          23,
          21,
          49,
          21,
          42,
          30,
          36,
          20,
          65,
          31,
          49,
          24,
          50,
          27,
          29,
          31,
          49,
          31,
          50,
          51,
          27,
          67,
          54,
          43,
          68,
          32,
          47,
          60,
          60,
          45,
          23,
          49,
          46,
          21,
          55,
          22,
          34,
          50,
          68,
          40,
          32,
          47,
          27,
          23,
          49,
          21,
          66,
          19,
          38,
          18,
          19,
          63,
          49,
          51,
          50,
          38,
          40,
          23,
          31,
          25,
          31,
          29,
          44,
          35,
          57,
          28,
          32,
          32,
          34,
          44,
          38,
          47,
          27,
          30,
          30,
          56,
          29,
          31,
          36,
          33,
          36,
          52,
          30,
          37,
          32,
          29,
          41,
          54,
          41,
          36,
          34,
          32,
          38,
          47,
          35,
          45
         ],
         "y": [
          6,
          77,
          40,
          76,
          6,
          94,
          72,
          99,
          15,
          77,
          35,
          98,
          5,
          14,
          32,
          31,
          87,
          73,
          14,
          81,
          17,
          73,
          26,
          75,
          35,
          61,
          28,
          65,
          55,
          47,
          42,
          42,
          52,
          54,
          45,
          50,
          51,
          52,
          59,
          50,
          48,
          47,
          42,
          49,
          56,
          53,
          52,
          42,
          44,
          57,
          58,
          55,
          60,
          46,
          55,
          40,
          42,
          47,
          50,
          41,
          48,
          42,
          50,
          54,
          42,
          48,
          50,
          43,
          59,
          43,
          57,
          40,
          58,
          29,
          77,
          34,
          71,
          88,
          7,
          72,
          5,
          40,
          87,
          74,
          22,
          20,
          76,
          16,
          89,
          78,
          73,
          35,
          83,
          93,
          75,
          95,
          27,
          13,
          86,
          32,
          86,
          88,
          39,
          24,
          17,
          85,
          23,
          69,
          91,
          16,
          79,
          28
         ],
         "z": [
          16,
          16,
          17,
          17,
          18,
          18,
          19,
          19,
          20,
          20,
          21,
          23,
          25,
          28,
          28,
          29,
          29,
          30,
          33,
          33,
          34,
          34,
          37,
          37,
          38,
          39,
          39,
          39,
          40,
          40,
          40,
          40,
          42,
          43,
          43,
          44,
          46,
          47,
          47,
          48,
          48,
          48,
          49,
          50,
          50,
          54,
          54,
          54,
          54,
          54,
          57,
          57,
          58,
          58,
          59,
          60,
          60,
          60,
          60,
          62,
          62,
          62,
          63,
          63,
          64,
          65,
          65,
          65,
          65,
          67,
          67,
          67,
          69,
          70,
          70,
          72,
          72,
          73,
          73,
          74,
          75,
          76,
          76,
          77,
          78,
          78,
          78,
          78,
          78,
          78,
          78,
          79,
          79,
          81,
          85,
          86,
          87,
          88,
          88,
          97,
          97,
          98,
          99,
          101,
          103,
          103,
          103,
          103,
          113,
          120,
          120,
          126
         ]
        }
       ],
       "layout": {
        "coloraxis": {
         "colorbar": {
          "title": {
           "text": "label_kmeans"
          }
         },
         "colorscale": [
          [
           0,
           "#0d0887"
          ],
          [
           0.1111111111111111,
           "#46039f"
          ],
          [
           0.2222222222222222,
           "#7201a8"
          ],
          [
           0.3333333333333333,
           "#9c179e"
          ],
          [
           0.4444444444444444,
           "#bd3786"
          ],
          [
           0.5555555555555556,
           "#d8576b"
          ],
          [
           0.6666666666666666,
           "#ed7953"
          ],
          [
           0.7777777777777778,
           "#fb9f3a"
          ],
          [
           0.8888888888888888,
           "#fdca26"
          ],
          [
           1,
           "#f0f921"
          ]
         ]
        },
        "height": 600,
        "legend": {
         "title": {
          "text": "Gender"
         },
         "tracegroupgap": 0
        },
        "margin": {
         "t": 60
        },
        "scene": {
         "aspectmode": "auto",
         "aspectratio": {
          "x": 0.609265977423064,
          "y": 1.1482320343742363,
          "z": 1.429431716261804
         },
         "camera": {
          "center": {
           "x": 0,
           "y": 0,
           "z": 0
          },
          "eye": {
           "x": 1.823981679916102,
           "y": -1.0721860922081745,
           "z": 0.6987514780035277
          },
          "projection": {
           "type": "perspective"
          },
          "up": {
           "x": 0.03650596755785776,
           "y": 0.013090778152579493,
           "z": 0.9992476899448028
          }
         },
         "domain": {
          "x": [
           0,
           1
          ],
          "y": [
           0,
           1
          ]
         },
         "xaxis": {
          "title": {
           "text": "Age"
          },
          "type": "linear"
         },
         "yaxis": {
          "title": {
           "text": "Spending Score (1-100)"
          },
          "type": "linear"
         },
         "zaxis": {
          "title": {
           "text": "Annual Income (k$)"
          },
          "type": "linear"
         }
        },
        "template": {
         "data": {
          "bar": [
           {
            "error_x": {
             "color": "#2a3f5f"
            },
            "error_y": {
             "color": "#2a3f5f"
            },
            "marker": {
             "line": {
              "color": "#E5ECF6",
              "width": 0.5
             },
             "pattern": {
              "fillmode": "overlay",
              "size": 10,
              "solidity": 0.2
             }
            },
            "type": "bar"
           }
          ],
          "barpolar": [
           {
            "marker": {
             "line": {
              "color": "#E5ECF6",
              "width": 0.5
             },
             "pattern": {
              "fillmode": "overlay",
              "size": 10,
              "solidity": 0.2
             }
            },
            "type": "barpolar"
           }
          ],
          "carpet": [
           {
            "aaxis": {
             "endlinecolor": "#2a3f5f",
             "gridcolor": "white",
             "linecolor": "white",
             "minorgridcolor": "white",
             "startlinecolor": "#2a3f5f"
            },
            "baxis": {
             "endlinecolor": "#2a3f5f",
             "gridcolor": "white",
             "linecolor": "white",
             "minorgridcolor": "white",
             "startlinecolor": "#2a3f5f"
            },
            "type": "carpet"
           }
          ],
          "choropleth": [
           {
            "colorbar": {
             "outlinewidth": 0,
             "ticks": ""
            },
            "type": "choropleth"
           }
          ],
          "contour": [
           {
            "colorbar": {
             "outlinewidth": 0,
             "ticks": ""
            },
            "colorscale": [
             [
              0,
              "#0d0887"
             ],
             [
              0.1111111111111111,
              "#46039f"
             ],
             [
              0.2222222222222222,
              "#7201a8"
             ],
             [
              0.3333333333333333,
              "#9c179e"
             ],
             [
              0.4444444444444444,
              "#bd3786"
             ],
             [
              0.5555555555555556,
              "#d8576b"
             ],
             [
              0.6666666666666666,
              "#ed7953"
             ],
             [
              0.7777777777777778,
              "#fb9f3a"
             ],
             [
              0.8888888888888888,
              "#fdca26"
             ],
             [
              1,
              "#f0f921"
             ]
            ],
            "type": "contour"
           }
          ],
          "contourcarpet": [
           {
            "colorbar": {
             "outlinewidth": 0,
             "ticks": ""
            },
            "type": "contourcarpet"
           }
          ],
          "heatmap": [
           {
            "colorbar": {
             "outlinewidth": 0,
             "ticks": ""
            },
            "colorscale": [
             [
              0,
              "#0d0887"
             ],
             [
              0.1111111111111111,
              "#46039f"
             ],
             [
              0.2222222222222222,
              "#7201a8"
             ],
             [
              0.3333333333333333,
              "#9c179e"
             ],
             [
              0.4444444444444444,
              "#bd3786"
             ],
             [
              0.5555555555555556,
              "#d8576b"
             ],
             [
              0.6666666666666666,
              "#ed7953"
             ],
             [
              0.7777777777777778,
              "#fb9f3a"
             ],
             [
              0.8888888888888888,
              "#fdca26"
             ],
             [
              1,
              "#f0f921"
             ]
            ],
            "type": "heatmap"
           }
          ],
          "heatmapgl": [
           {
            "colorbar": {
             "outlinewidth": 0,
             "ticks": ""
            },
            "colorscale": [
             [
              0,
              "#0d0887"
             ],
             [
              0.1111111111111111,
              "#46039f"
             ],
             [
              0.2222222222222222,
              "#7201a8"
             ],
             [
              0.3333333333333333,
              "#9c179e"
             ],
             [
              0.4444444444444444,
              "#bd3786"
             ],
             [
              0.5555555555555556,
              "#d8576b"
             ],
             [
              0.6666666666666666,
              "#ed7953"
             ],
             [
              0.7777777777777778,
              "#fb9f3a"
             ],
             [
              0.8888888888888888,
              "#fdca26"
             ],
             [
              1,
              "#f0f921"
             ]
            ],
            "type": "heatmapgl"
           }
          ],
          "histogram": [
           {
            "marker": {
             "pattern": {
              "fillmode": "overlay",
              "size": 10,
              "solidity": 0.2
             }
            },
            "type": "histogram"
           }
          ],
          "histogram2d": [
           {
            "colorbar": {
             "outlinewidth": 0,
             "ticks": ""
            },
            "colorscale": [
             [
              0,
              "#0d0887"
             ],
             [
              0.1111111111111111,
              "#46039f"
             ],
             [
              0.2222222222222222,
              "#7201a8"
             ],
             [
              0.3333333333333333,
              "#9c179e"
             ],
             [
              0.4444444444444444,
              "#bd3786"
             ],
             [
              0.5555555555555556,
              "#d8576b"
             ],
             [
              0.6666666666666666,
              "#ed7953"
             ],
             [
              0.7777777777777778,
              "#fb9f3a"
             ],
             [
              0.8888888888888888,
              "#fdca26"
             ],
             [
              1,
              "#f0f921"
             ]
            ],
            "type": "histogram2d"
           }
          ],
          "histogram2dcontour": [
           {
            "colorbar": {
             "outlinewidth": 0,
             "ticks": ""
            },
            "colorscale": [
             [
              0,
              "#0d0887"
             ],
             [
              0.1111111111111111,
              "#46039f"
             ],
             [
              0.2222222222222222,
              "#7201a8"
             ],
             [
              0.3333333333333333,
              "#9c179e"
             ],
             [
              0.4444444444444444,
              "#bd3786"
             ],
             [
              0.5555555555555556,
              "#d8576b"
             ],
             [
              0.6666666666666666,
              "#ed7953"
             ],
             [
              0.7777777777777778,
              "#fb9f3a"
             ],
             [
              0.8888888888888888,
              "#fdca26"
             ],
             [
              1,
              "#f0f921"
             ]
            ],
            "type": "histogram2dcontour"
           }
          ],
          "mesh3d": [
           {
            "colorbar": {
             "outlinewidth": 0,
             "ticks": ""
            },
            "type": "mesh3d"
           }
          ],
          "parcoords": [
           {
            "line": {
             "colorbar": {
              "outlinewidth": 0,
              "ticks": ""
             }
            },
            "type": "parcoords"
           }
          ],
          "pie": [
           {
            "automargin": true,
            "type": "pie"
           }
          ],
          "scatter": [
           {
            "marker": {
             "colorbar": {
              "outlinewidth": 0,
              "ticks": ""
             }
            },
            "type": "scatter"
           }
          ],
          "scatter3d": [
           {
            "line": {
             "colorbar": {
              "outlinewidth": 0,
              "ticks": ""
             }
            },
            "marker": {
             "colorbar": {
              "outlinewidth": 0,
              "ticks": ""
             }
            },
            "type": "scatter3d"
           }
          ],
          "scattercarpet": [
           {
            "marker": {
             "colorbar": {
              "outlinewidth": 0,
              "ticks": ""
             }
            },
            "type": "scattercarpet"
           }
          ],
          "scattergeo": [
           {
            "marker": {
             "colorbar": {
              "outlinewidth": 0,
              "ticks": ""
             }
            },
            "type": "scattergeo"
           }
          ],
          "scattergl": [
           {
            "marker": {
             "colorbar": {
              "outlinewidth": 0,
              "ticks": ""
             }
            },
            "type": "scattergl"
           }
          ],
          "scattermapbox": [
           {
            "marker": {
             "colorbar": {
              "outlinewidth": 0,
              "ticks": ""
             }
            },
            "type": "scattermapbox"
           }
          ],
          "scatterpolar": [
           {
            "marker": {
             "colorbar": {
              "outlinewidth": 0,
              "ticks": ""
             }
            },
            "type": "scatterpolar"
           }
          ],
          "scatterpolargl": [
           {
            "marker": {
             "colorbar": {
              "outlinewidth": 0,
              "ticks": ""
             }
            },
            "type": "scatterpolargl"
           }
          ],
          "scatterternary": [
           {
            "marker": {
             "colorbar": {
              "outlinewidth": 0,
              "ticks": ""
             }
            },
            "type": "scatterternary"
           }
          ],
          "surface": [
           {
            "colorbar": {
             "outlinewidth": 0,
             "ticks": ""
            },
            "colorscale": [
             [
              0,
              "#0d0887"
             ],
             [
              0.1111111111111111,
              "#46039f"
             ],
             [
              0.2222222222222222,
              "#7201a8"
             ],
             [
              0.3333333333333333,
              "#9c179e"
             ],
             [
              0.4444444444444444,
              "#bd3786"
             ],
             [
              0.5555555555555556,
              "#d8576b"
             ],
             [
              0.6666666666666666,
              "#ed7953"
             ],
             [
              0.7777777777777778,
              "#fb9f3a"
             ],
             [
              0.8888888888888888,
              "#fdca26"
             ],
             [
              1,
              "#f0f921"
             ]
            ],
            "type": "surface"
           }
          ],
          "table": [
           {
            "cells": {
             "fill": {
              "color": "#EBF0F8"
             },
             "line": {
              "color": "white"
             }
            },
            "header": {
             "fill": {
              "color": "#C8D4E3"
             },
             "line": {
              "color": "white"
             }
            },
            "type": "table"
           }
          ]
         },
         "layout": {
          "annotationdefaults": {
           "arrowcolor": "#2a3f5f",
           "arrowhead": 0,
           "arrowwidth": 1
          },
          "autotypenumbers": "strict",
          "coloraxis": {
           "colorbar": {
            "outlinewidth": 0,
            "ticks": ""
           }
          },
          "colorscale": {
           "diverging": [
            [
             0,
             "#8e0152"
            ],
            [
             0.1,
             "#c51b7d"
            ],
            [
             0.2,
             "#de77ae"
            ],
            [
             0.3,
             "#f1b6da"
            ],
            [
             0.4,
             "#fde0ef"
            ],
            [
             0.5,
             "#f7f7f7"
            ],
            [
             0.6,
             "#e6f5d0"
            ],
            [
             0.7,
             "#b8e186"
            ],
            [
             0.8,
             "#7fbc41"
            ],
            [
             0.9,
             "#4d9221"
            ],
            [
             1,
             "#276419"
            ]
           ],
           "sequential": [
            [
             0,
             "#0d0887"
            ],
            [
             0.1111111111111111,
             "#46039f"
            ],
            [
             0.2222222222222222,
             "#7201a8"
            ],
            [
             0.3333333333333333,
             "#9c179e"
            ],
            [
             0.4444444444444444,
             "#bd3786"
            ],
            [
             0.5555555555555556,
             "#d8576b"
            ],
            [
             0.6666666666666666,
             "#ed7953"
            ],
            [
             0.7777777777777778,
             "#fb9f3a"
            ],
            [
             0.8888888888888888,
             "#fdca26"
            ],
            [
             1,
             "#f0f921"
            ]
           ],
           "sequentialminus": [
            [
             0,
             "#0d0887"
            ],
            [
             0.1111111111111111,
             "#46039f"
            ],
            [
             0.2222222222222222,
             "#7201a8"
            ],
            [
             0.3333333333333333,
             "#9c179e"
            ],
            [
             0.4444444444444444,
             "#bd3786"
            ],
            [
             0.5555555555555556,
             "#d8576b"
            ],
            [
             0.6666666666666666,
             "#ed7953"
            ],
            [
             0.7777777777777778,
             "#fb9f3a"
            ],
            [
             0.8888888888888888,
             "#fdca26"
            ],
            [
             1,
             "#f0f921"
            ]
           ]
          },
          "colorway": [
           "#636efa",
           "#EF553B",
           "#00cc96",
           "#ab63fa",
           "#FFA15A",
           "#19d3f3",
           "#FF6692",
           "#B6E880",
           "#FF97FF",
           "#FECB52"
          ],
          "font": {
           "color": "#2a3f5f"
          },
          "geo": {
           "bgcolor": "white",
           "lakecolor": "white",
           "landcolor": "#E5ECF6",
           "showlakes": true,
           "showland": true,
           "subunitcolor": "white"
          },
          "hoverlabel": {
           "align": "left"
          },
          "hovermode": "closest",
          "mapbox": {
           "style": "light"
          },
          "paper_bgcolor": "white",
          "plot_bgcolor": "#E5ECF6",
          "polar": {
           "angularaxis": {
            "gridcolor": "white",
            "linecolor": "white",
            "ticks": ""
           },
           "bgcolor": "#E5ECF6",
           "radialaxis": {
            "gridcolor": "white",
            "linecolor": "white",
            "ticks": ""
           }
          },
          "scene": {
           "xaxis": {
            "backgroundcolor": "#E5ECF6",
            "gridcolor": "white",
            "gridwidth": 2,
            "linecolor": "white",
            "showbackground": true,
            "ticks": "",
            "zerolinecolor": "white"
           },
           "yaxis": {
            "backgroundcolor": "#E5ECF6",
            "gridcolor": "white",
            "gridwidth": 2,
            "linecolor": "white",
            "showbackground": true,
            "ticks": "",
            "zerolinecolor": "white"
           },
           "zaxis": {
            "backgroundcolor": "#E5ECF6",
            "gridcolor": "white",
            "gridwidth": 2,
            "linecolor": "white",
            "showbackground": true,
            "ticks": "",
            "zerolinecolor": "white"
           }
          },
          "shapedefaults": {
           "line": {
            "color": "#2a3f5f"
           }
          },
          "ternary": {
           "aaxis": {
            "gridcolor": "white",
            "linecolor": "white",
            "ticks": ""
           },
           "baxis": {
            "gridcolor": "white",
            "linecolor": "white",
            "ticks": ""
           },
           "bgcolor": "#E5ECF6",
           "caxis": {
            "gridcolor": "white",
            "linecolor": "white",
            "ticks": ""
           }
          },
          "title": {
           "x": 0.05
          },
          "xaxis": {
           "automargin": true,
           "gridcolor": "white",
           "linecolor": "white",
           "ticks": "",
           "title": {
            "standoff": 15
           },
           "zerolinecolor": "white",
           "zerolinewidth": 2
          },
          "yaxis": {
           "automargin": true,
           "gridcolor": "white",
           "linecolor": "white",
           "ticks": "",
           "title": {
            "standoff": 15
           },
           "zerolinecolor": "white",
           "zerolinewidth": 2
          }
         }
        },
        "width": 1200
       }
      },
      "image/png": "[encoded data removed]",
      "text/html": [
       "<div>                            <div id=\"20dac0ea-0d34-4dee-912c-5bbbf27c02ed\" class=\"plotly-graph-div\" style=\"height:600px; width:1200px;\"></div>            <script type=\"text/javascript\">                require([\"plotly\"], function(Plotly) {                    window.PLOTLYENV=window.PLOTLYENV || {};                                    if (document.getElementById(\"20dac0ea-0d34-4dee-912c-5bbbf27c02ed\")) {                    Plotly.newPlot(                        \"20dac0ea-0d34-4dee-912c-5bbbf27c02ed\",                        [{\"hovertemplate\":\"Gender=0<br>Age=%{x}<br>Spending Score (1-100)=%{y}<br>Annual Income (k$)=%{z}<br>label_kmeans=%{marker.color}<extra></extra>\",\"legendgroup\":\"0\",\"marker\":{\"color\":[0,5,0,0,0,5,5,0,0,5,5,5,5,0,0,5,5,2,4,2,2,2,2,2,4,2,4,4,2,2,4,4,2,4,2,2,4,2,4,2,4,2,4,2,2,2,2,2,4,4,1,3,1,3,1,3,1,3,1,3,1,3,1,3,1,3,1,3,3,3,3,3,1,3,1,3,1,3,1,3,1,3,1,1,3,1,3,1],\"coloraxis\":\"coloraxis\",\"symbol\":\"circle\"},\"mode\":\"markers\",\"name\":\"0\",\"scene\":\"scene\",\"showlegend\":true,\"type\":\"scatter3d\",\"x\":[19,21,64,67,37,22,20,52,35,25,31,29,35,60,53,18,24,48,33,59,47,69,53,70,19,63,18,19,70,59,26,40,57,38,67,48,18,48,24,48,20,67,26,49,54,68,66,65,19,27,39,43,40,59,38,47,39,20,32,19,32,25,28,48,34,43,39,37,34,19,50,42,32,40,28,36,36,58,27,59,35,46,30,28,33,32,32,30],\"y\":[39,81,3,14,13,79,66,29,35,73,73,82,61,4,4,92,92,36,60,60,41,46,46,56,55,51,59,59,55,47,54,48,51,55,41,46,41,49,52,42,49,59,55,56,46,43,48,52,46,56,91,35,95,11,75,9,75,5,73,10,93,12,97,36,90,17,88,1,1,5,26,20,63,13,75,10,92,15,69,14,90,15,97,68,8,74,18,83],\"z\":[15,15,19,19,20,20,21,23,24,24,25,28,28,30,33,33,38,39,42,43,43,44,46,46,46,48,48,48,49,54,54,54,54,54,54,54,59,60,60,61,61,62,62,62,63,63,63,63,64,67,69,71,71,71,71,71,71,73,73,74,75,77,77,77,78,78,78,78,78,81,85,86,87,87,87,87,87,88,88,93,93,98,99,101,113,126,137,137]},{\"hovertemplate\":\"Gender=1<br>Age=%{x}<br>Spending Score (1-100)=%{y}<br>Annual Income (k$)=%{z}<br>label_kmeans=%{marker.color}<extra></extra>\",\"legendgroup\":\"1\",\"marker\":{\"color\":[0,5,0,5,0,5,5,5,0,5,0,5,0,0,0,0,5,5,0,5,0,5,0,5,2,4,0,5,2,4,4,4,2,4,2,2,4,2,2,2,2,4,2,2,2,2,4,2,2,4,2,4,4,2,2,4,4,2,4,4,2,4,2,4,4,4,4,2,2,2,2,4,4,4,1,4,1,1,3,1,3,4,1,1,3,3,1,3,1,1,1,3,1,1,1,1,3,3,1,3,1,1,3,3,3,1,3,1,1,3,1,3],\"coloraxis\":\"coloraxis\",\"symbol\":\"diamond\"},\"mode\":\"markers\",\"name\":\"1\",\"scene\":\"scene\",\"showlegend\":true,\"type\":\"scatter3d\",\"x\":[20,23,31,22,35,23,30,35,58,24,35,35,46,54,45,40,23,21,49,21,42,30,36,20,65,31,49,24,50,27,29,31,49,31,50,51,27,67,54,43,68,32,47,60,60,45,23,49,46,21,55,22,34,50,68,40,32,47,27,23,49,21,66,19,38,18,19,63,49,51,50,38,40,23,31,25,31,29,44,35,57,28,32,32,34,44,38,47,27,30,30,56,29,31,36,33,36,52,30,37,32,29,41,54,41,36,34,32,38,47,35,45],\"y\":[6,77,40,76,6,94,72,99,15,77,35,98,5,14,32,31,87,73,14,81,17,73,26,75,35,61,28,65,55,47,42,42,52,54,45,50,51,52,59,50,48,47,42,49,56,53,52,42,44,57,58,55,60,46,55,40,42,47,50,41,48,42,50,54,42,48,50,43,59,43,57,40,58,29,77,34,71,88,7,72,5,40,87,74,22,20,76,16,89,78,73,35,83,93,75,95,27,13,86,32,86,88,39,24,17,85,23,69,91,16,79,28],\"z\":[16,16,17,17,18,18,19,19,20,20,21,23,25,28,28,29,29,30,33,33,34,34,37,37,38,39,39,39,40,40,40,40,42,43,43,44,46,47,47,48,48,48,49,50,50,54,54,54,54,54,57,57,58,58,59,60,60,60,60,62,62,62,63,63,64,65,65,65,65,67,67,67,69,70,70,72,72,73,73,74,75,76,76,77,78,78,78,78,78,78,78,79,79,81,85,86,87,88,88,97,97,98,99,101,103,103,103,103,113,120,120,126]}],                        {\"coloraxis\":{\"colorbar\":{\"title\":{\"text\":\"label_kmeans\"}},\"colorscale\":[[0.0,\"#0d0887\"],[0.1111111111111111,\"#46039f\"],[0.2222222222222222,\"#7201a8\"],[0.3333333333333333,\"#9c179e\"],[0.4444444444444444,\"#bd3786\"],[0.5555555555555556,\"#d8576b\"],[0.6666666666666666,\"#ed7953\"],[0.7777777777777778,\"#fb9f3a\"],[0.8888888888888888,\"#fdca26\"],[1.0,\"#f0f921\"]]},\"height\":600,\"legend\":{\"title\":{\"text\":\"Gender\"},\"tracegroupgap\":0},\"margin\":{\"t\":60},\"scene\":{\"domain\":{\"x\":[0.0,1.0],\"y\":[0.0,1.0]},\"xaxis\":{\"title\":{\"text\":\"Age\"}},\"yaxis\":{\"title\":{\"text\":\"Spending Score (1-100)\"}},\"zaxis\":{\"title\":{\"text\":\"Annual Income (k$)\"}}},\"template\":{\"data\":{\"bar\":[{\"error_x\":{\"color\":\"#2a3f5f\"},\"error_y\":{\"color\":\"#2a3f5f\"},\"marker\":{\"line\":{\"color\":\"#E5ECF6\",\"width\":0.5},\"pattern\":{\"fillmode\":\"overlay\",\"size\":10,\"solidity\":0.2}},\"type\":\"bar\"}],\"barpolar\":[{\"marker\":{\"line\":{\"color\":\"#E5ECF6\",\"width\":0.5},\"pattern\":{\"fillmode\":\"overlay\",\"size\":10,\"solidity\":0.2}},\"type\":\"barpolar\"}],\"carpet\":[{\"aaxis\":{\"endlinecolor\":\"#2a3f5f\",\"gridcolor\":\"white\",\"linecolor\":\"white\",\"minorgridcolor\":\"white\",\"startlinecolor\":\"#2a3f5f\"},\"baxis\":{\"endlinecolor\":\"#2a3f5f\",\"gridcolor\":\"white\",\"linecolor\":\"white\",\"minorgridcolor\":\"white\",\"startlinecolor\":\"#2a3f5f\"},\"type\":\"carpet\"}],\"choropleth\":[{\"colorbar\":{\"outlinewidth\":0,\"ticks\":\"\"},\"type\":\"choropleth\"}],\"contour\":[{\"colorbar\":{\"outlinewidth\":0,\"ticks\":\"\"},\"colorscale\":[[0.0,\"#0d0887\"],[0.1111111111111111,\"#46039f\"],[0.2222222222222222,\"#7201a8\"],[0.3333333333333333,\"#9c179e\"],[0.4444444444444444,\"#bd3786\"],[0.5555555555555556,\"#d8576b\"],[0.6666666666666666,\"#ed7953\"],[0.7777777777777778,\"#fb9f3a\"],[0.8888888888888888,\"#fdca26\"],[1.0,\"#f0f921\"]],\"type\":\"contour\"}],\"contourcarpet\":[{\"colorbar\":{\"outlinewidth\":0,\"ticks\":\"\"},\"type\":\"contourcarpet\"}],\"heatmap\":[{\"colorbar\":{\"outlinewidth\":0,\"ticks\":\"\"},\"colorscale\":[[0.0,\"#0d0887\"],[0.1111111111111111,\"#46039f\"],[0.2222222222222222,\"#7201a8\"],[0.3333333333333333,\"#9c179e\"],[0.4444444444444444,\"#bd3786\"],[0.5555555555555556,\"#d8576b\"],[0.6666666666666666,\"#ed7953\"],[0.7777777777777778,\"#fb9f3a\"],[0.8888888888888888,\"#fdca26\"],[1.0,\"#f0f921\"]],\"type\":\"heatmap\"}],\"heatmapgl\":[{\"colorbar\":{\"outlinewidth\":0,\"ticks\":\"\"},\"colorscale\":[[0.0,\"#0d0887\"],[0.1111111111111111,\"#46039f\"],[0.2222222222222222,\"#7201a8\"],[0.3333333333333333,\"#9c179e\"],[0.4444444444444444,\"#bd3786\"],[0.5555555555555556,\"#d8576b\"],[0.6666666666666666,\"#ed7953\"],[0.7777777777777778,\"#fb9f3a\"],[0.8888888888888888,\"#fdca26\"],[1.0,\"#f0f921\"]],\"type\":\"heatmapgl\"}],\"histogram\":[{\"marker\":{\"pattern\":{\"fillmode\":\"overlay\",\"size\":10,\"solidity\":0.2}},\"type\":\"histogram\"}],\"histogram2d\":[{\"colorbar\":{\"outlinewidth\":0,\"ticks\":\"\"},\"colorscale\":[[0.0,\"#0d0887\"],[0.1111111111111111,\"#46039f\"],[0.2222222222222222,\"#7201a8\"],[0.3333333333333333,\"#9c179e\"],[0.4444444444444444,\"#bd3786\"],[0.5555555555555556,\"#d8576b\"],[0.6666666666666666,\"#ed7953\"],[0.7777777777777778,\"#fb9f3a\"],[0.8888888888888888,\"#fdca26\"],[1.0,\"#f0f921\"]],\"type\":\"histogram2d\"}],\"histogram2dcontour\":[{\"colorbar\":{\"outlinewidth\":0,\"ticks\":\"\"},\"colorscale\":[[0.0,\"#0d0887\"],[0.1111111111111111,\"#46039f\"],[0.2222222222222222,\"#7201a8\"],[0.3333333333333333,\"#9c179e\"],[0.4444444444444444,\"#bd3786\"],[0.5555555555555556,\"#d8576b\"],[0.6666666666666666,\"#ed7953\"],[0.7777777777777778,\"#fb9f3a\"],[0.8888888888888888,\"#fdca26\"],[1.0,\"#f0f921\"]],\"type\":\"histogram2dcontour\"}],\"mesh3d\":[{\"colorbar\":{\"outlinewidth\":0,\"ticks\":\"\"},\"type\":\"mesh3d\"}],\"parcoords\":[{\"line\":{\"colorbar\":{\"outlinewidth\":0,\"ticks\":\"\"}},\"type\":\"parcoords\"}],\"pie\":[{\"automargin\":true,\"type\":\"pie\"}],\"scatter\":[{\"marker\":{\"colorbar\":{\"outlinewidth\":0,\"ticks\":\"\"}},\"type\":\"scatter\"}],\"scatter3d\":[{\"line\":{\"colorbar\":{\"outlinewidth\":0,\"ticks\":\"\"}},\"marker\":{\"colorbar\":{\"outlinewidth\":0,\"ticks\":\"\"}},\"type\":\"scatter3d\"}],\"scattercarpet\":[{\"marker\":{\"colorbar\":{\"outlinewidth\":0,\"ticks\":\"\"}},\"type\":\"scattercarpet\"}],\"scattergeo\":[{\"marker\":{\"colorbar\":{\"outlinewidth\":0,\"ticks\":\"\"}},\"type\":\"scattergeo\"}],\"scattergl\":[{\"marker\":{\"colorbar\":{\"outlinewidth\":0,\"ticks\":\"\"}},\"type\":\"scattergl\"}],\"scattermapbox\":[{\"marker\":{\"colorbar\":{\"outlinewidth\":0,\"ticks\":\"\"}},\"type\":\"scattermapbox\"}],\"scatterpolar\":[{\"marker\":{\"colorbar\":{\"outlinewidth\":0,\"ticks\":\"\"}},\"type\":\"scatterpolar\"}],\"scatterpolargl\":[{\"marker\":{\"colorbar\":{\"outlinewidth\":0,\"ticks\":\"\"}},\"type\":\"scatterpolargl\"}],\"scatterternary\":[{\"marker\":{\"colorbar\":{\"outlinewidth\":0,\"ticks\":\"\"}},\"type\":\"scatterternary\"}],\"surface\":[{\"colorbar\":{\"outlinewidth\":0,\"ticks\":\"\"},\"colorscale\":[[0.0,\"#0d0887\"],[0.1111111111111111,\"#46039f\"],[0.2222222222222222,\"#7201a8\"],[0.3333333333333333,\"#9c179e\"],[0.4444444444444444,\"#bd3786\"],[0.5555555555555556,\"#d8576b\"],[0.6666666666666666,\"#ed7953\"],[0.7777777777777778,\"#fb9f3a\"],[0.8888888888888888,\"#fdca26\"],[1.0,\"#f0f921\"]],\"type\":\"surface\"}],\"table\":[{\"cells\":{\"fill\":{\"color\":\"#EBF0F8\"},\"line\":{\"color\":\"white\"}},\"header\":{\"fill\":{\"color\":\"#C8D4E3\"},\"line\":{\"color\":\"white\"}},\"type\":\"table\"}]},\"layout\":{\"annotationdefaults\":{\"arrowcolor\":\"#2a3f5f\",\"arrowhead\":0,\"arrowwidth\":1},\"autotypenumbers\":\"strict\",\"coloraxis\":{\"colorbar\":{\"outlinewidth\":0,\"ticks\":\"\"}},\"colorscale\":{\"diverging\":[[0,\"#8e0152\"],[0.1,\"#c51b7d\"],[0.2,\"#de77ae\"],[0.3,\"#f1b6da\"],[0.4,\"#fde0ef\"],[0.5,\"#f7f7f7\"],[0.6,\"#e6f5d0\"],[0.7,\"#b8e186\"],[0.8,\"#7fbc41\"],[0.9,\"#4d9221\"],[1,\"#276419\"]],\"sequential\":[[0.0,\"#0d0887\"],[0.1111111111111111,\"#46039f\"],[0.2222222222222222,\"#7201a8\"],[0.3333333333333333,\"#9c179e\"],[0.4444444444444444,\"#bd3786\"],[0.5555555555555556,\"#d8576b\"],[0.6666666666666666,\"#ed7953\"],[0.7777777777777778,\"#fb9f3a\"],[0.8888888888888888,\"#fdca26\"],[1.0,\"#f0f921\"]],\"sequentialminus\":[[0.0,\"#0d0887\"],[0.1111111111111111,\"#46039f\"],[0.2222222222222222,\"#7201a8\"],[0.3333333333333333,\"#9c179e\"],[0.4444444444444444,\"#bd3786\"],[0.5555555555555556,\"#d8576b\"],[0.6666666666666666,\"#ed7953\"],[0.7777777777777778,\"#fb9f3a\"],[0.8888888888888888,\"#fdca26\"],[1.0,\"#f0f921\"]]},\"colorway\":[\"#636efa\",\"#EF553B\",\"#00cc96\",\"#ab63fa\",\"#FFA15A\",\"#19d3f3\",\"#FF6692\",\"#B6E880\",\"#FF97FF\",\"#FECB52\"],\"font\":{\"color\":\"#2a3f5f\"},\"geo\":{\"bgcolor\":\"white\",\"lakecolor\":\"white\",\"landcolor\":\"#E5ECF6\",\"showlakes\":true,\"showland\":true,\"subunitcolor\":\"white\"},\"hoverlabel\":{\"align\":\"left\"},\"hovermode\":\"closest\",\"mapbox\":{\"style\":\"light\"},\"paper_bgcolor\":\"white\",\"plot_bgcolor\":\"#E5ECF6\",\"polar\":{\"angularaxis\":{\"gridcolor\":\"white\",\"linecolor\":\"white\",\"ticks\":\"\"},\"bgcolor\":\"#E5ECF6\",\"radialaxis\":{\"gridcolor\":\"white\",\"linecolor\":\"white\",\"ticks\":\"\"}},\"scene\":{\"xaxis\":{\"backgroundcolor\":\"#E5ECF6\",\"gridcolor\":\"white\",\"gridwidth\":2,\"linecolor\":\"white\",\"showbackground\":true,\"ticks\":\"\",\"zerolinecolor\":\"white\"},\"yaxis\":{\"backgroundcolor\":\"#E5ECF6\",\"gridcolor\":\"white\",\"gridwidth\":2,\"linecolor\":\"white\",\"showbackground\":true,\"ticks\":\"\",\"zerolinecolor\":\"white\"},\"zaxis\":{\"backgroundcolor\":\"#E5ECF6\",\"gridcolor\":\"white\",\"gridwidth\":2,\"linecolor\":\"white\",\"showbackground\":true,\"ticks\":\"\",\"zerolinecolor\":\"white\"}},\"shapedefaults\":{\"line\":{\"color\":\"#2a3f5f\"}},\"ternary\":{\"aaxis\":{\"gridcolor\":\"white\",\"linecolor\":\"white\",\"ticks\":\"\"},\"baxis\":{\"gridcolor\":\"white\",\"linecolor\":\"white\",\"ticks\":\"\"},\"bgcolor\":\"#E5ECF6\",\"caxis\":{\"gridcolor\":\"white\",\"linecolor\":\"white\",\"ticks\":\"\"}},\"title\":{\"x\":0.05},\"xaxis\":{\"automargin\":true,\"gridcolor\":\"white\",\"linecolor\":\"white\",\"ticks\":\"\",\"title\":{\"standoff\":15},\"zerolinecolor\":\"white\",\"zerolinewidth\":2},\"yaxis\":{\"automargin\":true,\"gridcolor\":\"white\",\"linecolor\":\"white\",\"ticks\":\"\",\"title\":{\"standoff\":15},\"zerolinecolor\":\"white\",\"zerolinewidth\":2}}},\"width\":1200},                        {\"responsive\": true}                    ).then(function(){\n",
       "                            \n",
       "var gd = document.getElementById('20dac0ea-0d34-4dee-912c-5bbbf27c02ed');\n",
       "var x = new MutationObserver(function (mutations, observer) {{\n",
       "        var display = window.getComputedStyle(gd).display;\n",
       "        if (!display || display === 'none') {{\n",
       "            console.log([gd, 'removed!']);\n",
       "            Plotly.purge(gd);\n",
       "            observer.disconnect();\n",
       "        }}\n",
       "}});\n",
       "\n",
       "// Listen for the removal of the full notebook cells\n",
       "var notebookContainer = gd.closest('#notebook-container');\n",
       "if (notebookContainer) {{\n",
       "    x.observe(notebookContainer, {childList: true});\n",
       "}}\n",
       "\n",
       "// Listen for the clearing of the current output cell\n",
       "var outputEl = gd.closest('.output');\n",
       "if (outputEl) {{\n",
       "    x.observe(outputEl, {childList: true});\n",
       "}}\n",
       "\n",
       "                        })                };                });            </script>        </div>"
      ]
     },
     "metadata": {},
     "output_type": "display_data"
    }
   ],
   "source": [
    "kmeans = KMeans(n_clusters=6)\n",
    "kmeans.fit(X)\n",
    "labels = kmeans.labels_\n",
    "\n",
    "df_kmeans = pd.DataFrame(data = X, columns = X.columns)\n",
    "df_kmeans['label_kmeans'] = labels\n",
    "\n",
    "fig = px.scatter_3d(df_kmeans, x='Age', y='Spending Score (1-100)', z='Annual Income (k$)',\n",
    "              color='label_kmeans', symbol='Gender', width=1200, height=600)\n",
    "\n",
    "fig.show()"
   ]
  },
  {
   "cell_type": "code",
   "execution_count": 202,
   "id": "9675a09e-023d-45cd-8fed-8f37774751ef",
   "metadata": {},
   "outputs": [
    {
     "data": {
      "text/html": [
       "<div>\n",
       "<style scoped>\n",
       "    .dataframe tbody tr th:only-of-type {\n",
       "        vertical-align: middle;\n",
       "    }\n",
       "\n",
       "    .dataframe tbody tr th {\n",
       "        vertical-align: top;\n",
       "    }\n",
       "\n",
       "    .dataframe thead tr th {\n",
       "        text-align: left;\n",
       "    }\n",
       "\n",
       "    .dataframe thead tr:last-of-type th {\n",
       "        text-align: right;\n",
       "    }\n",
       "</style>\n",
       "<table border=\"1\" class=\"dataframe\">\n",
       "  <thead>\n",
       "    <tr>\n",
       "      <th></th>\n",
       "      <th colspan=\"8\" halign=\"left\">Age</th>\n",
       "      <th colspan=\"8\" halign=\"left\">Annual Income (k$)</th>\n",
       "      <th colspan=\"8\" halign=\"left\">Spending Score (1-100)</th>\n",
       "    </tr>\n",
       "    <tr>\n",
       "      <th></th>\n",
       "      <th>count</th>\n",
       "      <th>mean</th>\n",
       "      <th>std</th>\n",
       "      <th>min</th>\n",
       "      <th>25%</th>\n",
       "      <th>50%</th>\n",
       "      <th>75%</th>\n",
       "      <th>max</th>\n",
       "      <th>count</th>\n",
       "      <th>mean</th>\n",
       "      <th>std</th>\n",
       "      <th>min</th>\n",
       "      <th>25%</th>\n",
       "      <th>50%</th>\n",
       "      <th>75%</th>\n",
       "      <th>max</th>\n",
       "      <th>count</th>\n",
       "      <th>mean</th>\n",
       "      <th>std</th>\n",
       "      <th>min</th>\n",
       "      <th>25%</th>\n",
       "      <th>50%</th>\n",
       "      <th>75%</th>\n",
       "      <th>max</th>\n",
       "    </tr>\n",
       "    <tr>\n",
       "      <th>label_kmeans</th>\n",
       "      <th></th>\n",
       "      <th></th>\n",
       "      <th></th>\n",
       "      <th></th>\n",
       "      <th></th>\n",
       "      <th></th>\n",
       "      <th></th>\n",
       "      <th></th>\n",
       "      <th></th>\n",
       "      <th></th>\n",
       "      <th></th>\n",
       "      <th></th>\n",
       "      <th></th>\n",
       "      <th></th>\n",
       "      <th></th>\n",
       "      <th></th>\n",
       "      <th></th>\n",
       "      <th></th>\n",
       "      <th></th>\n",
       "      <th></th>\n",
       "      <th></th>\n",
       "      <th></th>\n",
       "      <th></th>\n",
       "      <th></th>\n",
       "    </tr>\n",
       "  </thead>\n",
       "  <tbody>\n",
       "    <tr>\n",
       "      <th>0</th>\n",
       "      <td>21.0</td>\n",
       "      <td>44.142857</td>\n",
       "      <td>13.089254</td>\n",
       "      <td>19.0</td>\n",
       "      <td>35.00</td>\n",
       "      <td>45.0</td>\n",
       "      <td>53.00</td>\n",
       "      <td>67.0</td>\n",
       "      <td>21.0</td>\n",
       "      <td>25.142857</td>\n",
       "      <td>7.226934</td>\n",
       "      <td>15.0</td>\n",
       "      <td>19.00</td>\n",
       "      <td>24.0</td>\n",
       "      <td>30.00</td>\n",
       "      <td>39.0</td>\n",
       "      <td>21.0</td>\n",
       "      <td>19.523810</td>\n",
       "      <td>12.769569</td>\n",
       "      <td>3.0</td>\n",
       "      <td>6.0</td>\n",
       "      <td>15.0</td>\n",
       "      <td>31.00</td>\n",
       "      <td>40.0</td>\n",
       "    </tr>\n",
       "    <tr>\n",
       "      <th>1</th>\n",
       "      <td>39.0</td>\n",
       "      <td>32.692308</td>\n",
       "      <td>3.728650</td>\n",
       "      <td>27.0</td>\n",
       "      <td>30.00</td>\n",
       "      <td>32.0</td>\n",
       "      <td>35.50</td>\n",
       "      <td>40.0</td>\n",
       "      <td>39.0</td>\n",
       "      <td>86.538462</td>\n",
       "      <td>16.312485</td>\n",
       "      <td>69.0</td>\n",
       "      <td>75.50</td>\n",
       "      <td>79.0</td>\n",
       "      <td>95.00</td>\n",
       "      <td>137.0</td>\n",
       "      <td>39.0</td>\n",
       "      <td>82.128205</td>\n",
       "      <td>9.364489</td>\n",
       "      <td>63.0</td>\n",
       "      <td>74.5</td>\n",
       "      <td>83.0</td>\n",
       "      <td>90.00</td>\n",
       "      <td>97.0</td>\n",
       "    </tr>\n",
       "    <tr>\n",
       "      <th>2</th>\n",
       "      <td>45.0</td>\n",
       "      <td>56.155556</td>\n",
       "      <td>8.543886</td>\n",
       "      <td>43.0</td>\n",
       "      <td>49.00</td>\n",
       "      <td>54.0</td>\n",
       "      <td>65.00</td>\n",
       "      <td>70.0</td>\n",
       "      <td>45.0</td>\n",
       "      <td>53.377778</td>\n",
       "      <td>8.435016</td>\n",
       "      <td>38.0</td>\n",
       "      <td>47.00</td>\n",
       "      <td>54.0</td>\n",
       "      <td>62.00</td>\n",
       "      <td>67.0</td>\n",
       "      <td>45.0</td>\n",
       "      <td>49.088889</td>\n",
       "      <td>6.251626</td>\n",
       "      <td>35.0</td>\n",
       "      <td>45.0</td>\n",
       "      <td>49.0</td>\n",
       "      <td>55.00</td>\n",
       "      <td>60.0</td>\n",
       "    </tr>\n",
       "    <tr>\n",
       "      <th>3</th>\n",
       "      <td>35.0</td>\n",
       "      <td>41.685714</td>\n",
       "      <td>10.897305</td>\n",
       "      <td>19.0</td>\n",
       "      <td>35.00</td>\n",
       "      <td>43.0</td>\n",
       "      <td>47.50</td>\n",
       "      <td>59.0</td>\n",
       "      <td>35.0</td>\n",
       "      <td>88.228571</td>\n",
       "      <td>16.367266</td>\n",
       "      <td>71.0</td>\n",
       "      <td>77.50</td>\n",
       "      <td>85.0</td>\n",
       "      <td>97.50</td>\n",
       "      <td>137.0</td>\n",
       "      <td>35.0</td>\n",
       "      <td>17.285714</td>\n",
       "      <td>10.211215</td>\n",
       "      <td>1.0</td>\n",
       "      <td>10.0</td>\n",
       "      <td>16.0</td>\n",
       "      <td>23.50</td>\n",
       "      <td>39.0</td>\n",
       "    </tr>\n",
       "    <tr>\n",
       "      <th>4</th>\n",
       "      <td>38.0</td>\n",
       "      <td>27.000000</td>\n",
       "      <td>7.032742</td>\n",
       "      <td>18.0</td>\n",
       "      <td>21.00</td>\n",
       "      <td>26.5</td>\n",
       "      <td>31.75</td>\n",
       "      <td>40.0</td>\n",
       "      <td>38.0</td>\n",
       "      <td>56.657895</td>\n",
       "      <td>9.905708</td>\n",
       "      <td>39.0</td>\n",
       "      <td>48.00</td>\n",
       "      <td>59.5</td>\n",
       "      <td>63.75</td>\n",
       "      <td>76.0</td>\n",
       "      <td>38.0</td>\n",
       "      <td>49.131579</td>\n",
       "      <td>7.853975</td>\n",
       "      <td>29.0</td>\n",
       "      <td>42.0</td>\n",
       "      <td>50.0</td>\n",
       "      <td>55.00</td>\n",
       "      <td>61.0</td>\n",
       "    </tr>\n",
       "    <tr>\n",
       "      <th>5</th>\n",
       "      <td>22.0</td>\n",
       "      <td>25.272727</td>\n",
       "      <td>5.257030</td>\n",
       "      <td>18.0</td>\n",
       "      <td>21.25</td>\n",
       "      <td>23.5</td>\n",
       "      <td>29.75</td>\n",
       "      <td>35.0</td>\n",
       "      <td>22.0</td>\n",
       "      <td>25.727273</td>\n",
       "      <td>7.566731</td>\n",
       "      <td>15.0</td>\n",
       "      <td>19.25</td>\n",
       "      <td>24.5</td>\n",
       "      <td>32.25</td>\n",
       "      <td>39.0</td>\n",
       "      <td>22.0</td>\n",
       "      <td>79.363636</td>\n",
       "      <td>10.504174</td>\n",
       "      <td>61.0</td>\n",
       "      <td>73.0</td>\n",
       "      <td>77.0</td>\n",
       "      <td>85.75</td>\n",
       "      <td>99.0</td>\n",
       "    </tr>\n",
       "  </tbody>\n",
       "</table>\n",
       "</div>"
      ],
      "text/plain": [
       "               Age                                                        \\\n",
       "             count       mean        std   min    25%   50%    75%   max   \n",
       "label_kmeans                                                               \n",
       "0             21.0  44.142857  13.089254  19.0  35.00  45.0  53.00  67.0   \n",
       "1             39.0  32.692308   3.728650  27.0  30.00  32.0  35.50  40.0   \n",
       "2             45.0  56.155556   8.543886  43.0  49.00  54.0  65.00  70.0   \n",
       "3             35.0  41.685714  10.897305  19.0  35.00  43.0  47.50  59.0   \n",
       "4             38.0  27.000000   7.032742  18.0  21.00  26.5  31.75  40.0   \n",
       "5             22.0  25.272727   5.257030  18.0  21.25  23.5  29.75  35.0   \n",
       "\n",
       "             Annual Income (k$)                                           \\\n",
       "                          count       mean        std   min    25%   50%   \n",
       "label_kmeans                                                               \n",
       "0                          21.0  25.142857   7.226934  15.0  19.00  24.0   \n",
       "1                          39.0  86.538462  16.312485  69.0  75.50  79.0   \n",
       "2                          45.0  53.377778   8.435016  38.0  47.00  54.0   \n",
       "3                          35.0  88.228571  16.367266  71.0  77.50  85.0   \n",
       "4                          38.0  56.657895   9.905708  39.0  48.00  59.5   \n",
       "5                          22.0  25.727273   7.566731  15.0  19.25  24.5   \n",
       "\n",
       "                           Spending Score (1-100)                              \\\n",
       "                75%    max                  count       mean        std   min   \n",
       "label_kmeans                                                                    \n",
       "0             30.00   39.0                   21.0  19.523810  12.769569   3.0   \n",
       "1             95.00  137.0                   39.0  82.128205   9.364489  63.0   \n",
       "2             62.00   67.0                   45.0  49.088889   6.251626  35.0   \n",
       "3             97.50  137.0                   35.0  17.285714  10.211215   1.0   \n",
       "4             63.75   76.0                   38.0  49.131579   7.853975  29.0   \n",
       "5             32.25   39.0                   22.0  79.363636  10.504174  61.0   \n",
       "\n",
       "                                       \n",
       "               25%   50%    75%   max  \n",
       "label_kmeans                           \n",
       "0              6.0  15.0  31.00  40.0  \n",
       "1             74.5  83.0  90.00  97.0  \n",
       "2             45.0  49.0  55.00  60.0  \n",
       "3             10.0  16.0  23.50  39.0  \n",
       "4             42.0  50.0  55.00  61.0  \n",
       "5             73.0  77.0  85.75  99.0  "
      ]
     },
     "execution_count": 202,
     "metadata": {},
     "output_type": "execute_result"
    }
   ],
   "source": [
    "with pd.option_context('display.max_rows', None, 'display.max_columns', None): \n",
    "    pd.DataFrame(df_kmeans.groupby(by='label_kmeans').describe())"
   ]
  },
  {
   "cell_type": "markdown",
   "id": "e0d217f2-f6c8-4daf-b7b7-a1344ed6fe07",
   "metadata": {},
   "source": [
    "### AffinityPropagation"
   ]
  },
  {
   "cell_type": "code",
   "execution_count": 182,
   "id": "72b101a0-de5d-460d-9a1f-db92b748061c",
   "metadata": {},
   "outputs": [
    {
     "name": "stdout",
     "output_type": "stream",
     "text": [
      "Estimated number of clusters: 12\n"
     ]
    }
   ],
   "source": [
    "af = AffinityPropagation(random_state=0).fit(X)\n",
    "cluster_centers_indices = af.cluster_centers_indices_\n",
    "labels = af.labels_\n",
    "n_clusters_ = len(cluster_centers_indices)\n",
    "\n",
    "print('Estimated number of clusters: %d' % n_clusters_)"
   ]
  },
  {
   "cell_type": "markdown",
   "id": "8381cee9-f928-4c06-9fc0-2c3012c90964",
   "metadata": {},
   "source": []
  }
 ],
 "metadata": {
  "kernelspec": {
   "display_name": "Python 3",
   "language": "python",
   "name": "python3"
  },
  "language_info": {
   "codemirror_mode": {
    "name": "ipython",
    "version": 3
   },
   "file_extension": ".py",
   "mimetype": "text/x-python",
   "name": "python",
   "nbconvert_exporter": "python",
   "pygments_lexer": "ipython3",
   "version": "3.8.8"
  },
  "toc": {
   "base_numbering": 1,
   "nav_menu": {},
   "number_sections": true,
   "sideBar": true,
   "skip_h1_title": false,
   "title_cell": "Table of Contents",
   "title_sidebar": "Contents",
   "toc_cell": false,
   "toc_position": {},
   "toc_section_display": true,
   "toc_window_display": false
  },
  "varInspector": {
   "cols": {
    "lenName": 16,
    "lenType": 16,
    "lenVar": 40
   },
   "kernels_config": {
    "python": {
     "delete_cmd_postfix": "",
     "delete_cmd_prefix": "del ",
     "library": "var_list.py",
     "varRefreshCmd": "print(var_dic_list())"
    },
    "r": {
     "delete_cmd_postfix": ") ",
     "delete_cmd_prefix": "rm(",
     "library": "var_list.r",
     "varRefreshCmd": "cat(var_dic_list()) "
    }
   },
   "types_to_exclude": [
    "module",
    "function",
    "builtin_function_or_method",
    "instance",
    "_Feature"
   ],
   "window_display": false
  },
  "widgets": {
   "application/vnd.jupyter.widget-state+json": {
    "state": {},
    "version_major": 2,
    "version_minor": 0
   }
  }
 },
 "nbformat": 4,
 "nbformat_minor": 5
}
