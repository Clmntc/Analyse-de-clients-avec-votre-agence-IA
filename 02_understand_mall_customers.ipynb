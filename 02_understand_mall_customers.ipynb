{
 "cells": [
  {
   "cell_type": "markdown",
   "id": "serial-reminder",
   "metadata": {},
   "source": [
    "# Understanding Mall customers"
   ]
  },
  {
   "cell_type": "markdown",
   "id": "perfect-baseball",
   "metadata": {},
   "source": [
    "In this exercise, you work for a consulting firm as data scientist. In this scenario, your client is the owner of a Mall and he wants to understand the customers who can easily buy.  \n",
    "\n",
    "You dispose of a dataset from the mall dataset with 5 features :\n",
    "- CustomerID of the customer\n",
    "- Gender of the customer\n",
    "- Age of the customer\n",
    "- Annual Income of the customer in k$\n",
    "- Spending Score assigned by the mall based on customer behavior and spending nature (1-99)\n"
   ]
  },
  {
   "cell_type": "markdown",
   "id": "administrative-floor",
   "metadata": {},
   "source": [
    "You have one day to perform this analysis"
   ]
  },
  {
   "cell_type": "code",
   "execution_count": 47,
   "id": "biological-torture",
   "metadata": {},
   "outputs": [],
   "source": [
    "import pandas as pd\n",
    "import numpy as np\n",
    "import seaborn as sns\n",
    "from sklearn.cluster import KMeans\n",
    "import matplotlib.pyplot as plt\n",
    "from yellowbrick.cluster import KElbowVisualizer\n",
    "from sklearn.metrics import silhouette_score\n",
    "from yellowbrick.cluster.elbow import kelbow_visualizer\n",
    "from sklearn.cluster import AgglomerativeClustering\n",
    "from sklearn.mixture import GaussianMixture\n",
    "from sklearn.cluster import AffinityPropagation\n",
    "from sklearn.decomposition import PCA\n",
    "from sklearn.preprocessing import OneHotEncoder\n",
    "from sklearn.cluster import AgglomerativeClustering\n",
    "from sklearn.neighbors import kneighbors_graph\n"
   ]
  },
  {
   "cell_type": "code",
   "execution_count": 4,
   "id": "interior-orbit",
   "metadata": {
    "scrolled": true
   },
   "outputs": [
    {
     "data": {
      "text/html": [
       "<div>\n",
       "<style scoped>\n",
       "    .dataframe tbody tr th:only-of-type {\n",
       "        vertical-align: middle;\n",
       "    }\n",
       "\n",
       "    .dataframe tbody tr th {\n",
       "        vertical-align: top;\n",
       "    }\n",
       "\n",
       "    .dataframe thead th {\n",
       "        text-align: right;\n",
       "    }\n",
       "</style>\n",
       "<table border=\"1\" class=\"dataframe\">\n",
       "  <thead>\n",
       "    <tr style=\"text-align: right;\">\n",
       "      <th></th>\n",
       "      <th>CustomerID</th>\n",
       "      <th>Genre</th>\n",
       "      <th>Age</th>\n",
       "      <th>Annual Income (k$)</th>\n",
       "      <th>Spending Score (1-100)</th>\n",
       "    </tr>\n",
       "  </thead>\n",
       "  <tbody>\n",
       "    <tr>\n",
       "      <th>0</th>\n",
       "      <td>1</td>\n",
       "      <td>Male</td>\n",
       "      <td>19</td>\n",
       "      <td>15</td>\n",
       "      <td>39</td>\n",
       "    </tr>\n",
       "    <tr>\n",
       "      <th>1</th>\n",
       "      <td>2</td>\n",
       "      <td>Male</td>\n",
       "      <td>21</td>\n",
       "      <td>15</td>\n",
       "      <td>81</td>\n",
       "    </tr>\n",
       "    <tr>\n",
       "      <th>2</th>\n",
       "      <td>3</td>\n",
       "      <td>Female</td>\n",
       "      <td>20</td>\n",
       "      <td>16</td>\n",
       "      <td>6</td>\n",
       "    </tr>\n",
       "    <tr>\n",
       "      <th>3</th>\n",
       "      <td>4</td>\n",
       "      <td>Female</td>\n",
       "      <td>23</td>\n",
       "      <td>16</td>\n",
       "      <td>77</td>\n",
       "    </tr>\n",
       "    <tr>\n",
       "      <th>4</th>\n",
       "      <td>5</td>\n",
       "      <td>Female</td>\n",
       "      <td>31</td>\n",
       "      <td>17</td>\n",
       "      <td>40</td>\n",
       "    </tr>\n",
       "  </tbody>\n",
       "</table>\n",
       "</div>"
      ],
      "text/plain": [
       "   CustomerID   Genre  Age  Annual Income (k$)  Spending Score (1-100)\n",
       "0           1    Male   19                  15                      39\n",
       "1           2    Male   21                  15                      81\n",
       "2           3  Female   20                  16                       6\n",
       "3           4  Female   23                  16                      77\n",
       "4           5  Female   31                  17                      40"
      ]
     },
     "execution_count": 4,
     "metadata": {},
     "output_type": "execute_result"
    }
   ],
   "source": [
    "mall_df = pd.read_csv('C:/Users/edenl/Desktop/ia_coding/notebooks/mall_customers/data/Mall_Customers.csv')\n",
    "mall_df.head()"
   ]
  },
  {
   "cell_type": "markdown",
   "id": "social-necessity",
   "metadata": {},
   "source": [
    "# Customer Segmentation using different clustering methods"
   ]
  },
  {
   "cell_type": "markdown",
   "id": "wrong-chrome",
   "metadata": {},
   "source": [
    "Try to perform different Clustering methods (e.g. k-means, agglomerative, DBSCAN, Gaussian) to create clusters and understand behaviors\n",
    "\n",
    "https://machinelearningmastery.com/clustering-algorithms-with-python/\n",
    "\n",
    "https://towardsdatascience.com/the-5-clustering-algorithms-data-scientists-need-to-know-a36d136ef68"
   ]
  },
  {
   "cell_type": "code",
   "execution_count": 5,
   "id": "2e680039",
   "metadata": {},
   "outputs": [],
   "source": [
    "mall_df = mall_df.rename({\"Spending Score (1-100)\" : \"SpendingScore\" , \"Annual Income (k$)\" : \"AnnualIncome\"} , axis=1)"
   ]
  },
  {
   "cell_type": "code",
   "execution_count": 6,
   "id": "17477395",
   "metadata": {},
   "outputs": [
    {
     "data": {
      "text/html": [
       "<div>\n",
       "<style scoped>\n",
       "    .dataframe tbody tr th:only-of-type {\n",
       "        vertical-align: middle;\n",
       "    }\n",
       "\n",
       "    .dataframe tbody tr th {\n",
       "        vertical-align: top;\n",
       "    }\n",
       "\n",
       "    .dataframe thead th {\n",
       "        text-align: right;\n",
       "    }\n",
       "</style>\n",
       "<table border=\"1\" class=\"dataframe\">\n",
       "  <thead>\n",
       "    <tr style=\"text-align: right;\">\n",
       "      <th></th>\n",
       "      <th>CustomerID</th>\n",
       "      <th>Genre</th>\n",
       "      <th>Age</th>\n",
       "      <th>AnnualIncome</th>\n",
       "      <th>SpendingScore</th>\n",
       "    </tr>\n",
       "  </thead>\n",
       "  <tbody>\n",
       "    <tr>\n",
       "      <th>0</th>\n",
       "      <td>1</td>\n",
       "      <td>Male</td>\n",
       "      <td>19</td>\n",
       "      <td>15</td>\n",
       "      <td>39</td>\n",
       "    </tr>\n",
       "    <tr>\n",
       "      <th>1</th>\n",
       "      <td>2</td>\n",
       "      <td>Male</td>\n",
       "      <td>21</td>\n",
       "      <td>15</td>\n",
       "      <td>81</td>\n",
       "    </tr>\n",
       "    <tr>\n",
       "      <th>2</th>\n",
       "      <td>3</td>\n",
       "      <td>Female</td>\n",
       "      <td>20</td>\n",
       "      <td>16</td>\n",
       "      <td>6</td>\n",
       "    </tr>\n",
       "    <tr>\n",
       "      <th>3</th>\n",
       "      <td>4</td>\n",
       "      <td>Female</td>\n",
       "      <td>23</td>\n",
       "      <td>16</td>\n",
       "      <td>77</td>\n",
       "    </tr>\n",
       "    <tr>\n",
       "      <th>4</th>\n",
       "      <td>5</td>\n",
       "      <td>Female</td>\n",
       "      <td>31</td>\n",
       "      <td>17</td>\n",
       "      <td>40</td>\n",
       "    </tr>\n",
       "    <tr>\n",
       "      <th>...</th>\n",
       "      <td>...</td>\n",
       "      <td>...</td>\n",
       "      <td>...</td>\n",
       "      <td>...</td>\n",
       "      <td>...</td>\n",
       "    </tr>\n",
       "    <tr>\n",
       "      <th>195</th>\n",
       "      <td>196</td>\n",
       "      <td>Female</td>\n",
       "      <td>35</td>\n",
       "      <td>120</td>\n",
       "      <td>79</td>\n",
       "    </tr>\n",
       "    <tr>\n",
       "      <th>196</th>\n",
       "      <td>197</td>\n",
       "      <td>Female</td>\n",
       "      <td>45</td>\n",
       "      <td>126</td>\n",
       "      <td>28</td>\n",
       "    </tr>\n",
       "    <tr>\n",
       "      <th>197</th>\n",
       "      <td>198</td>\n",
       "      <td>Male</td>\n",
       "      <td>32</td>\n",
       "      <td>126</td>\n",
       "      <td>74</td>\n",
       "    </tr>\n",
       "    <tr>\n",
       "      <th>198</th>\n",
       "      <td>199</td>\n",
       "      <td>Male</td>\n",
       "      <td>32</td>\n",
       "      <td>137</td>\n",
       "      <td>18</td>\n",
       "    </tr>\n",
       "    <tr>\n",
       "      <th>199</th>\n",
       "      <td>200</td>\n",
       "      <td>Male</td>\n",
       "      <td>30</td>\n",
       "      <td>137</td>\n",
       "      <td>83</td>\n",
       "    </tr>\n",
       "  </tbody>\n",
       "</table>\n",
       "<p>200 rows × 5 columns</p>\n",
       "</div>"
      ],
      "text/plain": [
       "     CustomerID   Genre  Age  AnnualIncome  SpendingScore\n",
       "0             1    Male   19            15             39\n",
       "1             2    Male   21            15             81\n",
       "2             3  Female   20            16              6\n",
       "3             4  Female   23            16             77\n",
       "4             5  Female   31            17             40\n",
       "..          ...     ...  ...           ...            ...\n",
       "195         196  Female   35           120             79\n",
       "196         197  Female   45           126             28\n",
       "197         198    Male   32           126             74\n",
       "198         199    Male   32           137             18\n",
       "199         200    Male   30           137             83\n",
       "\n",
       "[200 rows x 5 columns]"
      ]
     },
     "execution_count": 6,
     "metadata": {},
     "output_type": "execute_result"
    }
   ],
   "source": [
    "mall_df"
   ]
  },
  {
   "cell_type": "code",
   "execution_count": 7,
   "id": "abddd796",
   "metadata": {},
   "outputs": [
    {
     "data": {
      "text/plain": [
       "CustomerID        int64\n",
       "Genre            object\n",
       "Age               int64\n",
       "AnnualIncome      int64\n",
       "SpendingScore     int64\n",
       "dtype: object"
      ]
     },
     "execution_count": 7,
     "metadata": {},
     "output_type": "execute_result"
    }
   ],
   "source": [
    "mall_df.dtypes\n"
   ]
  },
  {
   "cell_type": "code",
   "execution_count": 22,
   "id": "e9ea79b9",
   "metadata": {},
   "outputs": [],
   "source": [
    "mall_df = mall_df.drop(\"Genre\" , axis=1)"
   ]
  },
  {
   "cell_type": "raw",
   "id": "33e198d6",
   "metadata": {},
   "source": [
    "sorry i couldn't found how to convert genre to be able to use it in visualisation \n",
    "this would be a real usefull feature it could help us know who buy the most of product\n",
    "so i just dropped the column..."
   ]
  },
  {
   "cell_type": "markdown",
   "id": "d2e8961f",
   "metadata": {},
   "source": [
    "# DATA VIZUALISATION"
   ]
  },
  {
   "cell_type": "code",
   "execution_count": 23,
   "id": "b70093f4",
   "metadata": {},
   "outputs": [],
   "source": [
    "x = mall_df.Age"
   ]
  },
  {
   "cell_type": "code",
   "execution_count": 24,
   "id": "75418760",
   "metadata": {},
   "outputs": [],
   "source": [
    "y = mall_df.SpendingScore\n"
   ]
  },
  {
   "cell_type": "code",
   "execution_count": 25,
   "id": "607adba0",
   "metadata": {},
   "outputs": [
    {
     "name": "stderr",
     "output_type": "stream",
     "text": [
      "C:\\Users\\edenl\\anaconda3\\lib\\site-packages\\seaborn\\_decorators.py:36: FutureWarning: Pass the following variables as keyword args: x, y. From version 0.12, the only valid positional argument will be `data`, and passing other arguments without an explicit keyword will result in an error or misinterpretation.\n",
      "  warnings.warn(\n"
     ]
    },
    {
     "data": {
      "text/plain": [
       "<AxesSubplot:xlabel='Age', ylabel='SpendingScore'>"
      ]
     },
     "execution_count": 25,
     "metadata": {},
     "output_type": "execute_result"
    },
    {
     "data": {
      "image/png": "[encoded data removed]",
      "text/plain": [
       "<Figure size 576x396 with 1 Axes>"
      ]
     },
     "metadata": {},
     "output_type": "display_data"
    }
   ],
   "source": [
    "sns.scatterplot( x , y)"
   ]
  },
  {
   "cell_type": "raw",
   "id": "b5796f49",
   "metadata": {},
   "source": [
    "here we can see we have 3 cluster 2 big ones and a small one near 0 , 20 of only a coople values \n"
   ]
  },
  {
   "cell_type": "code",
   "execution_count": 26,
   "id": "e265e92c",
   "metadata": {},
   "outputs": [],
   "source": [
    "x = mall_df.AnnualIncome"
   ]
  },
  {
   "cell_type": "code",
   "execution_count": 27,
   "id": "0a490dbb",
   "metadata": {},
   "outputs": [
    {
     "name": "stderr",
     "output_type": "stream",
     "text": [
      "C:\\Users\\edenl\\anaconda3\\lib\\site-packages\\seaborn\\_decorators.py:36: FutureWarning: Pass the following variables as keyword args: x, y. From version 0.12, the only valid positional argument will be `data`, and passing other arguments without an explicit keyword will result in an error or misinterpretation.\n",
      "  warnings.warn(\n"
     ]
    },
    {
     "data": {
      "text/plain": [
       "<AxesSubplot:xlabel='AnnualIncome', ylabel='SpendingScore'>"
      ]
     },
     "execution_count": 27,
     "metadata": {},
     "output_type": "execute_result"
    },
    {
     "data": {
      "image/png": "[encoded data removed]",
      "text/plain": [
       "<Figure size 576x396 with 1 Axes>"
      ]
     },
     "metadata": {},
     "output_type": "display_data"
    }
   ],
   "source": [
    "sns.scatterplot( x , y)"
   ]
  },
  {
   "cell_type": "raw",
   "id": "47a4c133",
   "metadata": {},
   "source": [
    "here we can clearly see that people that gets a average amount of money are the one who spends the most \n",
    "the other people spend less for different reason less income are they earn too much "
   ]
  },
  {
   "cell_type": "markdown",
   "id": "5898b1e3",
   "metadata": {},
   "source": [
    "# PCA"
   ]
  },
  {
   "cell_type": "code",
   "execution_count": 28,
   "id": "db51ddcd",
   "metadata": {},
   "outputs": [
    {
     "data": {
      "text/plain": [
       "PCA(n_components=2)"
      ]
     },
     "execution_count": 28,
     "metadata": {},
     "output_type": "execute_result"
    }
   ],
   "source": [
    "pca = PCA(n_components=2)\n",
    "pca.fit(mall_df)"
   ]
  },
  {
   "cell_type": "code",
   "execution_count": 29,
   "id": "76511555",
   "metadata": {},
   "outputs": [
    {
     "data": {
      "text/plain": [
       "array([0.81899053, 0.14169335])"
      ]
     },
     "execution_count": 29,
     "metadata": {},
     "output_type": "execute_result"
    }
   ],
   "source": [
    "pca.explained_variance_ratio_"
   ]
  },
  {
   "cell_type": "code",
   "execution_count": 30,
   "id": "85040b16",
   "metadata": {},
   "outputs": [
    {
     "data": {
      "text/plain": [
       "array([893.80914289, 371.77492231])"
      ]
     },
     "execution_count": 30,
     "metadata": {},
     "output_type": "execute_result"
    }
   ],
   "source": [
    "pca.singular_values_"
   ]
  },
  {
   "cell_type": "code",
   "execution_count": 31,
   "id": "f1cc8522",
   "metadata": {},
   "outputs": [],
   "source": [
    "#this pca helps a lot ! to get a better score on kmeans \n",
    "#i did without the pca before and only had 1,16 "
   ]
  },
  {
   "cell_type": "markdown",
   "id": "7ba5193c",
   "metadata": {},
   "source": [
    "# KMEANS"
   ]
  },
  {
   "cell_type": "raw",
   "id": "3169876e",
   "metadata": {},
   "source": [
    "kmeans is used when you have a idea of the number of cluster you have in your data"
   ]
  },
  {
   "cell_type": "code",
   "execution_count": 32,
   "id": "b744d9ac",
   "metadata": {},
   "outputs": [
    {
     "data": {
      "text/plain": [
       "KMeans(n_clusters=2, random_state=0)"
      ]
     },
     "execution_count": 32,
     "metadata": {},
     "output_type": "execute_result"
    }
   ],
   "source": [
    "km = KMeans(n_clusters=2 , random_state=0).fit(mall_df)\n",
    "km"
   ]
  },
  {
   "cell_type": "code",
   "execution_count": 33,
   "id": "644d0a12",
   "metadata": {},
   "outputs": [
    {
     "data": {
      "text/plain": [
       "array([1, 1, 1, 1, 1, 1, 1, 1, 1, 1, 1, 1, 1, 1, 1, 1, 1, 1, 1, 1, 1, 1,\n",
       "       1, 1, 1, 1, 1, 1, 1, 1, 1, 1, 1, 1, 1, 1, 1, 1, 1, 1, 1, 1, 1, 1,\n",
       "       1, 1, 1, 1, 1, 1, 1, 1, 1, 1, 1, 1, 1, 1, 1, 1, 1, 1, 1, 1, 1, 1,\n",
       "       1, 1, 1, 1, 1, 1, 1, 1, 1, 1, 1, 1, 1, 1, 1, 1, 1, 1, 1, 1, 1, 1,\n",
       "       1, 1, 1, 1, 1, 1, 1, 1, 1, 1, 1, 0, 0, 0, 0, 0, 0, 0, 0, 0, 0, 0,\n",
       "       0, 0, 0, 0, 0, 0, 0, 0, 0, 0, 0, 0, 0, 0, 0, 0, 0, 0, 0, 0, 0, 0,\n",
       "       0, 0, 0, 0, 0, 0, 0, 0, 0, 0, 0, 0, 0, 0, 0, 0, 0, 0, 0, 0, 0, 0,\n",
       "       0, 0, 0, 0, 0, 0, 0, 0, 0, 0, 0, 0, 0, 0, 0, 0, 0, 0, 0, 0, 0, 0,\n",
       "       0, 0, 0, 0, 0, 0, 0, 0, 0, 0, 0, 0, 0, 0, 0, 0, 0, 0, 0, 0, 0, 0,\n",
       "       0, 0])"
      ]
     },
     "execution_count": 33,
     "metadata": {},
     "output_type": "execute_result"
    }
   ],
   "source": [
    "km.predict(mall_df)"
   ]
  },
  {
   "cell_type": "code",
   "execution_count": 34,
   "id": "226484eb",
   "metadata": {},
   "outputs": [
    {
     "data": {
      "text/plain": [
       "0.47934627465976204"
      ]
     },
     "execution_count": 34,
     "metadata": {},
     "output_type": "execute_result"
    }
   ],
   "source": [
    "score = silhouette_score(mall_df,km.labels_ , metric='euclidean' )\n",
    "score"
   ]
  },
  {
   "cell_type": "markdown",
   "id": "520131f4",
   "metadata": {},
   "source": [
    "# KELBOW VISUALIZER"
   ]
  },
  {
   "cell_type": "code",
   "execution_count": 36,
   "id": "fd21e0cf",
   "metadata": {},
   "outputs": [
    {
     "data": {
      "image/png": "[encoded data removed]",
      "text/plain": [
       "<Figure size 576x396 with 2 Axes>"
      ]
     },
     "metadata": {},
     "output_type": "display_data"
    },
    {
     "data": {
      "text/plain": [
       "<AxesSubplot:title={'center':'Distortion Score Elbow for KMeans Clustering'}, xlabel='k', ylabel='distortion score'>"
      ]
     },
     "execution_count": 36,
     "metadata": {},
     "output_type": "execute_result"
    }
   ],
   "source": [
    "visualizer = KElbowVisualizer(km, k =(2,15))\n",
    "visualizer.fit(mall_df)\n",
    "visualizer.show()"
   ]
  },
  {
   "cell_type": "markdown",
   "id": "39582974",
   "metadata": {},
   "source": [
    "# AGGLOMERATIVE CLUSTERING"
   ]
  },
  {
   "cell_type": "raw",
   "id": "e61d816d",
   "metadata": {},
   "source": [
    "the agglomerative clustering is a type of hierarchical clustering used to gorup objec in a cluster based oof similarity the result is a tree based representation"
   ]
  },
  {
   "cell_type": "code",
   "execution_count": 37,
   "id": "7d23cd07",
   "metadata": {},
   "outputs": [
    {
     "data": {
      "text/plain": [
       "AgglomerativeClustering()"
      ]
     },
     "execution_count": 37,
     "metadata": {},
     "output_type": "execute_result"
    }
   ],
   "source": [
    "ac = AgglomerativeClustering().fit(mall_df)\n",
    "ac"
   ]
  },
  {
   "cell_type": "code",
   "execution_count": 38,
   "id": "42cddea4",
   "metadata": {},
   "outputs": [
    {
     "data": {
      "text/plain": [
       "array([0, 0, 0, 0, 0, 0, 0, 0, 0, 0, 0, 0, 0, 0, 0, 0, 0, 0, 0, 0, 0, 0,\n",
       "       0, 0, 0, 0, 0, 0, 0, 0, 0, 0, 0, 0, 0, 0, 0, 0, 0, 0, 0, 0, 0, 0,\n",
       "       0, 0, 0, 0, 0, 0, 0, 0, 0, 0, 0, 0, 0, 0, 0, 0, 0, 0, 0, 0, 0, 0,\n",
       "       0, 0, 0, 0, 0, 0, 0, 0, 0, 0, 0, 0, 0, 0, 0, 0, 0, 0, 0, 0, 0, 0,\n",
       "       0, 0, 0, 0, 0, 0, 0, 0, 0, 0, 0, 0, 0, 0, 0, 0, 0, 0, 0, 0, 0, 0,\n",
       "       0, 0, 0, 0, 0, 0, 0, 0, 0, 0, 0, 0, 0, 1, 1, 1, 0, 1, 1, 1, 1, 1,\n",
       "       1, 1, 1, 1, 1, 1, 1, 1, 1, 1, 1, 1, 1, 1, 1, 1, 1, 1, 1, 1, 1, 1,\n",
       "       1, 1, 1, 1, 1, 1, 1, 1, 1, 1, 1, 1, 1, 1, 1, 1, 1, 1, 1, 1, 1, 1,\n",
       "       1, 1, 1, 1, 1, 1, 1, 1, 1, 1, 1, 1, 1, 1, 1, 1, 1, 1, 1, 1, 1, 1,\n",
       "       1, 1], dtype=int64)"
      ]
     },
     "execution_count": 38,
     "metadata": {},
     "output_type": "execute_result"
    }
   ],
   "source": [
    "ac.labels_"
   ]
  },
  {
   "cell_type": "code",
   "execution_count": 39,
   "id": "276c3d73",
   "metadata": {
    "scrolled": true
   },
   "outputs": [
    {
     "data": {
      "text/plain": [
       "AgglomerativeClustering(n_clusters=     CustomerID  Age  AnnualIncome  SpendingScore\n",
       "0             1   19            15             39\n",
       "1             2   21            15             81\n",
       "2             3   20            16              6\n",
       "3             4   23            16             77\n",
       "4             5   31            17             40\n",
       "..          ...  ...           ...            ...\n",
       "195         196   35           120             79\n",
       "196         197   45           126             28\n",
       "197         198   32           126             74\n",
       "198         199   32           137             18\n",
       "199         200   30           137             83\n",
       "\n",
       "[200 rows x 4 columns])"
      ]
     },
     "execution_count": 39,
     "metadata": {},
     "output_type": "execute_result"
    }
   ],
   "source": [
    "score_agglo = AgglomerativeClustering(mall_df)\n",
    "score_agglo"
   ]
  },
  {
   "cell_type": "markdown",
   "id": "c9ea4640",
   "metadata": {},
   "source": [
    "# GAUSSIAN MIXTURE"
   ]
  },
  {
   "cell_type": "raw",
   "id": "16f76823",
   "metadata": {},
   "source": [
    "Gaussian Mixture models are used for representing Normally Distributed subpopulations within an overall population\n",
    "It allows the model to learn the subpopulations automatically"
   ]
  },
  {
   "cell_type": "code",
   "execution_count": 40,
   "id": "50eb7596",
   "metadata": {},
   "outputs": [
    {
     "data": {
      "text/plain": [
       "array([[179.69921505,  34.2980807 ,  97.99282482,  58.12001951],\n",
       "       [ 83.75691043,  39.81229732,  52.64652335,  48.52567032]])"
      ]
     },
     "execution_count": 40,
     "metadata": {},
     "output_type": "execute_result"
    }
   ],
   "source": [
    "gm = GaussianMixture(n_components=2, random_state=0).fit(mall_df)\n",
    "gm.means_"
   ]
  },
  {
   "cell_type": "code",
   "execution_count": 41,
   "id": "a2796efa",
   "metadata": {},
   "outputs": [
    {
     "data": {
      "text/plain": [
       "array([1, 1, 1, 1, 1, 1, 1, 1, 1, 1, 1, 1, 1, 1, 1, 1, 1, 1, 1, 1, 1, 1,\n",
       "       1, 1, 1, 1, 1, 1, 1, 1, 1, 1, 1, 1, 1, 1, 1, 1, 1, 1, 1, 1, 1, 1,\n",
       "       1, 1, 1, 1, 1, 1, 1, 1, 1, 1, 1, 1, 1, 1, 1, 1, 1, 1, 1, 1, 1, 1,\n",
       "       1, 1, 1, 1, 1, 1, 1, 1, 1, 1, 1, 1, 1, 1, 1, 1, 1, 1, 1, 1, 1, 1,\n",
       "       1, 1, 1, 1, 1, 1, 1, 1, 1, 1, 1, 1, 1, 1, 1, 1, 1, 1, 1, 1, 1, 1,\n",
       "       1, 1, 1, 1, 1, 1, 1, 1, 1, 1, 1, 1, 1, 1, 1, 1, 1, 1, 1, 1, 1, 1,\n",
       "       1, 1, 1, 1, 1, 1, 1, 1, 1, 1, 1, 1, 1, 1, 1, 1, 1, 1, 1, 1, 1, 1,\n",
       "       1, 0, 0, 0, 0, 0, 1, 0, 1, 0, 1, 0, 1, 0, 0, 0, 0, 0, 0, 0, 1, 0,\n",
       "       1, 0, 1, 0, 0, 0, 0, 0, 0, 0, 1, 0, 0, 0, 0, 0, 0, 0, 0, 0, 0, 0,\n",
       "       0, 0], dtype=int64)"
      ]
     },
     "execution_count": 41,
     "metadata": {},
     "output_type": "execute_result"
    }
   ],
   "source": [
    "gm.predict(mall_df)"
   ]
  },
  {
   "cell_type": "markdown",
   "id": "f94874a1",
   "metadata": {},
   "source": [
    "# AFFINITY PROPAGATION"
   ]
  },
  {
   "cell_type": "raw",
   "id": "c5c1ea00",
   "metadata": {},
   "source": [
    "Affinity Propagation is an unsupervised machine learning algorithm that is used for problems where we don't know the optimal number of clusters."
   ]
  },
  {
   "cell_type": "code",
   "execution_count": 42,
   "id": "dc7a12bf",
   "metadata": {},
   "outputs": [
    {
     "data": {
      "text/plain": [
       "AffinityPropagation(random_state=5)"
      ]
     },
     "execution_count": 42,
     "metadata": {},
     "output_type": "execute_result"
    }
   ],
   "source": [
    "ap = AffinityPropagation(random_state=5).fit(mall_df)\n",
    "ap"
   ]
  },
  {
   "cell_type": "code",
   "execution_count": 43,
   "id": "95ad9018",
   "metadata": {},
   "outputs": [
    {
     "data": {
      "text/plain": [
       "array([ 0,  2,  0,  2,  0,  2,  1,  2,  1,  2,  1,  2,  1,  2,  1,  2,  0,\n",
       "        2,  1,  2,  0,  2,  1,  2,  1,  2,  0,  2,  0,  2,  1,  2,  1,  2,\n",
       "        1,  2,  1,  2,  1,  2,  1,  2,  3,  3,  1,  3,  3,  3,  3,  3,  3,\n",
       "        3,  3,  4,  3,  3,  4,  4,  3,  4,  4,  3,  4,  4,  4,  3,  4,  4,\n",
       "        3,  3,  4,  4,  4,  4,  4,  5,  4,  4,  5,  4,  4,  5,  4,  4,  5,\n",
       "        4,  4,  5,  5,  6,  4,  5,  6,  5,  5,  5,  6,  5,  6,  5,  5,  6,\n",
       "        6,  5,  6,  5,  6,  6,  6,  6,  6,  5,  6,  5,  5,  5,  6,  6,  6,\n",
       "        6,  5,  6,  6,  7,  8,  7,  6,  7,  8,  7,  8,  7,  8,  7,  8,  7,\n",
       "        8,  7,  8,  7,  8,  7,  8,  7,  8,  7,  8,  7,  8,  7,  8,  7,  8,\n",
       "        7,  8,  7,  8,  7,  8,  7,  8,  7,  8,  7,  8,  9,  8,  9,  8,  9,\n",
       "        8,  9, 10,  9, 10,  9, 10,  9, 10,  9, 10,  9, 10,  9, 10,  9, 10,\n",
       "        9, 10,  9, 10,  9, 10,  9, 10,  9, 10,  9, 10,  9], dtype=int64)"
      ]
     },
     "execution_count": 43,
     "metadata": {},
     "output_type": "execute_result"
    }
   ],
   "source": [
    "ap.labels_"
   ]
  },
  {
   "cell_type": "code",
   "execution_count": 44,
   "id": "87f412d2",
   "metadata": {},
   "outputs": [
    {
     "data": {
      "text/plain": [
       "array([ 0,  2,  0,  2,  0,  2,  1,  2,  1,  2,  1,  2,  1,  2,  1,  2,  0,\n",
       "        2,  1,  2,  0,  2,  1,  2,  1,  2,  0,  2,  0,  2,  1,  2,  1,  2,\n",
       "        1,  2,  1,  2,  1,  2,  1,  2,  3,  3,  1,  3,  3,  3,  3,  3,  3,\n",
       "        3,  3,  4,  3,  3,  4,  4,  3,  4,  4,  3,  4,  4,  4,  3,  4,  4,\n",
       "        3,  3,  4,  4,  4,  4,  4,  5,  4,  4,  5,  4,  4,  5,  4,  4,  5,\n",
       "        4,  4,  5,  5,  6,  4,  5,  6,  5,  5,  5,  6,  5,  6,  5,  5,  6,\n",
       "        6,  5,  6,  5,  6,  6,  6,  6,  6,  5,  6,  5,  5,  5,  6,  6,  6,\n",
       "        6,  5,  6,  6,  7,  8,  7,  6,  7,  8,  7,  8,  7,  8,  7,  8,  7,\n",
       "        8,  7,  8,  7,  8,  7,  8,  7,  8,  7,  8,  7,  8,  7,  8,  7,  8,\n",
       "        7,  8,  7,  8,  7,  8,  7,  8,  7,  8,  7,  8,  9,  8,  9,  8,  9,\n",
       "        8,  9, 10,  9, 10,  9, 10,  9, 10,  9, 10,  9, 10,  9, 10,  9, 10,\n",
       "        9, 10,  9, 10,  9, 10,  9, 10,  9, 10,  9, 10,  9], dtype=int64)"
      ]
     },
     "execution_count": 44,
     "metadata": {},
     "output_type": "execute_result"
    }
   ],
   "source": [
    "ap.predict(mall_df)"
   ]
  },
  {
   "cell_type": "code",
   "execution_count": 45,
   "id": "4fb32bae",
   "metadata": {},
   "outputs": [
    {
     "data": {
      "text/plain": [
       "array([[ 17,  35,  21,  35],\n",
       "       [ 25,  54,  28,  14],\n",
       "       [ 26,  29,  28,  82],\n",
       "       [ 53,  31,  43,  54],\n",
       "       [ 73,  60,  50,  49],\n",
       "       [ 98,  27,  60,  50],\n",
       "       [108,  54,  63,  46],\n",
       "       [144,  32,  76,  87],\n",
       "       [151,  43,  78,  17],\n",
       "       [182,  32,  97,  86],\n",
       "       [189,  41, 103,  17]], dtype=int64)"
      ]
     },
     "execution_count": 45,
     "metadata": {},
     "output_type": "execute_result"
    }
   ],
   "source": [
    "ap.cluster_centers_"
   ]
  },
  {
   "cell_type": "markdown",
   "id": "hindu-brook",
   "metadata": {},
   "source": [
    "# Conclusions"
   ]
  },
  {
   "cell_type": "code",
   "execution_count": null,
   "id": "engaging-irish",
   "metadata": {},
   "outputs": [],
   "source": []
  },
  {
   "cell_type": "code",
   "execution_count": null,
   "id": "a12eb198",
   "metadata": {},
   "outputs": [],
   "source": []
  },
  {
   "cell_type": "code",
   "execution_count": null,
   "id": "496ee5fc",
   "metadata": {},
   "outputs": [],
   "source": []
  },
  {
   "cell_type": "code",
   "execution_count": null,
   "id": "9fa3df09",
   "metadata": {},
   "outputs": [],
   "source": []
  }
 ],
 "metadata": {
  "kernelspec": {
   "display_name": "Python 3",
   "language": "python",
   "name": "python3"
  },
  "language_info": {
   "codemirror_mode": {
    "name": "ipython",
    "version": 3
   },
   "file_extension": ".py",
   "mimetype": "text/x-python",
   "name": "python",
   "nbconvert_exporter": "python",
   "pygments_lexer": "ipython3",
   "version": "3.8.8"
  },
  "toc": {
   "base_numbering": 1,
   "nav_menu": {},
   "number_sections": true,
   "sideBar": true,
   "skip_h1_title": false,
   "title_cell": "Table of Contents",
   "title_sidebar": "Contents",
   "toc_cell": false,
   "toc_position": {},
   "toc_section_display": true,
   "toc_window_display": false
  },
  "varInspector": {
   "cols": {
    "lenName": 16,
    "lenType": 16,
    "lenVar": 40
   },
   "kernels_config": {
    "python": {
     "delete_cmd_postfix": "",
     "delete_cmd_prefix": "del ",
     "library": "var_list.py",
     "varRefreshCmd": "print(var_dic_list())"
    },
    "r": {
     "delete_cmd_postfix": ") ",
     "delete_cmd_prefix": "rm(",
     "library": "var_list.r",
     "varRefreshCmd": "cat(var_dic_list()) "
    }
   },
   "types_to_exclude": [
    "module",
    "function",
    "builtin_function_or_method",
    "instance",
    "_Feature"
   ],
   "window_display": false
  }
 },
 "nbformat": 4,
 "nbformat_minor": 5
}
